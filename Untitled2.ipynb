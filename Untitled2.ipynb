{
  "nbformat": 4,
  "nbformat_minor": 0,
  "metadata": {
    "colab": {
      "provenance": [],
      "gpuType": "T4"
    },
    "kernelspec": {
      "name": "python3",
      "display_name": "Python 3"
    },
    "language_info": {
      "name": "python"
    },
    "accelerator": "GPU",
    "widgets": {
      "application/vnd.jupyter.widget-state+json": {
        "a989e7f51b574cfa8e1fb4615cd75df6": {
          "model_module": "@jupyter-widgets/controls",
          "model_name": "HBoxModel",
          "model_module_version": "1.5.0",
          "state": {
            "_dom_classes": [],
            "_model_module": "@jupyter-widgets/controls",
            "_model_module_version": "1.5.0",
            "_model_name": "HBoxModel",
            "_view_count": null,
            "_view_module": "@jupyter-widgets/controls",
            "_view_module_version": "1.5.0",
            "_view_name": "HBoxView",
            "box_style": "",
            "children": [
              "IPY_MODEL_726680d069064ffcb522a8c33123c986",
              "IPY_MODEL_501d468a495447208ed8df0832376408",
              "IPY_MODEL_598b09a55e484098ab61ff95ce743055"
            ],
            "layout": "IPY_MODEL_5456832110e44f1f8611dfba585c530f"
          }
        },
        "726680d069064ffcb522a8c33123c986": {
          "model_module": "@jupyter-widgets/controls",
          "model_name": "HTMLModel",
          "model_module_version": "1.5.0",
          "state": {
            "_dom_classes": [],
            "_model_module": "@jupyter-widgets/controls",
            "_model_module_version": "1.5.0",
            "_model_name": "HTMLModel",
            "_view_count": null,
            "_view_module": "@jupyter-widgets/controls",
            "_view_module_version": "1.5.0",
            "_view_name": "HTMLView",
            "description": "",
            "description_tooltip": null,
            "layout": "IPY_MODEL_92fde823d6924794a269222aa5d29908",
            "placeholder": "​",
            "style": "IPY_MODEL_976b1ea468c84dff8ab1c006a773ec1c",
            "value": "Summarising: 100%"
          }
        },
        "501d468a495447208ed8df0832376408": {
          "model_module": "@jupyter-widgets/controls",
          "model_name": "FloatProgressModel",
          "model_module_version": "1.5.0",
          "state": {
            "_dom_classes": [],
            "_model_module": "@jupyter-widgets/controls",
            "_model_module_version": "1.5.0",
            "_model_name": "FloatProgressModel",
            "_view_count": null,
            "_view_module": "@jupyter-widgets/controls",
            "_view_module_version": "1.5.0",
            "_view_name": "ProgressView",
            "bar_style": "success",
            "description": "",
            "description_tooltip": null,
            "layout": "IPY_MODEL_d5bd01cff34c4a9c8d1d34fee04a96b2",
            "max": 10,
            "min": 0,
            "orientation": "horizontal",
            "style": "IPY_MODEL_b879e8d9464c4d31b48de455f4d688f2",
            "value": 10
          }
        },
        "598b09a55e484098ab61ff95ce743055": {
          "model_module": "@jupyter-widgets/controls",
          "model_name": "HTMLModel",
          "model_module_version": "1.5.0",
          "state": {
            "_dom_classes": [],
            "_model_module": "@jupyter-widgets/controls",
            "_model_module_version": "1.5.0",
            "_model_name": "HTMLModel",
            "_view_count": null,
            "_view_module": "@jupyter-widgets/controls",
            "_view_module_version": "1.5.0",
            "_view_name": "HTMLView",
            "description": "",
            "description_tooltip": null,
            "layout": "IPY_MODEL_631ee568d0cc4d6488ef8d09d5f1e6ce",
            "placeholder": "​",
            "style": "IPY_MODEL_b347d69ea99348809a902a847665b230",
            "value": " 10/10 [00:08&lt;00:00,  1.07it/s]"
          }
        },
        "5456832110e44f1f8611dfba585c530f": {
          "model_module": "@jupyter-widgets/base",
          "model_name": "LayoutModel",
          "model_module_version": "1.2.0",
          "state": {
            "_model_module": "@jupyter-widgets/base",
            "_model_module_version": "1.2.0",
            "_model_name": "LayoutModel",
            "_view_count": null,
            "_view_module": "@jupyter-widgets/base",
            "_view_module_version": "1.2.0",
            "_view_name": "LayoutView",
            "align_content": null,
            "align_items": null,
            "align_self": null,
            "border": null,
            "bottom": null,
            "display": null,
            "flex": null,
            "flex_flow": null,
            "grid_area": null,
            "grid_auto_columns": null,
            "grid_auto_flow": null,
            "grid_auto_rows": null,
            "grid_column": null,
            "grid_gap": null,
            "grid_row": null,
            "grid_template_areas": null,
            "grid_template_columns": null,
            "grid_template_rows": null,
            "height": null,
            "justify_content": null,
            "justify_items": null,
            "left": null,
            "margin": null,
            "max_height": null,
            "max_width": null,
            "min_height": null,
            "min_width": null,
            "object_fit": null,
            "object_position": null,
            "order": null,
            "overflow": null,
            "overflow_x": null,
            "overflow_y": null,
            "padding": null,
            "right": null,
            "top": null,
            "visibility": null,
            "width": null
          }
        },
        "92fde823d6924794a269222aa5d29908": {
          "model_module": "@jupyter-widgets/base",
          "model_name": "LayoutModel",
          "model_module_version": "1.2.0",
          "state": {
            "_model_module": "@jupyter-widgets/base",
            "_model_module_version": "1.2.0",
            "_model_name": "LayoutModel",
            "_view_count": null,
            "_view_module": "@jupyter-widgets/base",
            "_view_module_version": "1.2.0",
            "_view_name": "LayoutView",
            "align_content": null,
            "align_items": null,
            "align_self": null,
            "border": null,
            "bottom": null,
            "display": null,
            "flex": null,
            "flex_flow": null,
            "grid_area": null,
            "grid_auto_columns": null,
            "grid_auto_flow": null,
            "grid_auto_rows": null,
            "grid_column": null,
            "grid_gap": null,
            "grid_row": null,
            "grid_template_areas": null,
            "grid_template_columns": null,
            "grid_template_rows": null,
            "height": null,
            "justify_content": null,
            "justify_items": null,
            "left": null,
            "margin": null,
            "max_height": null,
            "max_width": null,
            "min_height": null,
            "min_width": null,
            "object_fit": null,
            "object_position": null,
            "order": null,
            "overflow": null,
            "overflow_x": null,
            "overflow_y": null,
            "padding": null,
            "right": null,
            "top": null,
            "visibility": null,
            "width": null
          }
        },
        "976b1ea468c84dff8ab1c006a773ec1c": {
          "model_module": "@jupyter-widgets/controls",
          "model_name": "DescriptionStyleModel",
          "model_module_version": "1.5.0",
          "state": {
            "_model_module": "@jupyter-widgets/controls",
            "_model_module_version": "1.5.0",
            "_model_name": "DescriptionStyleModel",
            "_view_count": null,
            "_view_module": "@jupyter-widgets/base",
            "_view_module_version": "1.2.0",
            "_view_name": "StyleView",
            "description_width": ""
          }
        },
        "d5bd01cff34c4a9c8d1d34fee04a96b2": {
          "model_module": "@jupyter-widgets/base",
          "model_name": "LayoutModel",
          "model_module_version": "1.2.0",
          "state": {
            "_model_module": "@jupyter-widgets/base",
            "_model_module_version": "1.2.0",
            "_model_name": "LayoutModel",
            "_view_count": null,
            "_view_module": "@jupyter-widgets/base",
            "_view_module_version": "1.2.0",
            "_view_name": "LayoutView",
            "align_content": null,
            "align_items": null,
            "align_self": null,
            "border": null,
            "bottom": null,
            "display": null,
            "flex": null,
            "flex_flow": null,
            "grid_area": null,
            "grid_auto_columns": null,
            "grid_auto_flow": null,
            "grid_auto_rows": null,
            "grid_column": null,
            "grid_gap": null,
            "grid_row": null,
            "grid_template_areas": null,
            "grid_template_columns": null,
            "grid_template_rows": null,
            "height": null,
            "justify_content": null,
            "justify_items": null,
            "left": null,
            "margin": null,
            "max_height": null,
            "max_width": null,
            "min_height": null,
            "min_width": null,
            "object_fit": null,
            "object_position": null,
            "order": null,
            "overflow": null,
            "overflow_x": null,
            "overflow_y": null,
            "padding": null,
            "right": null,
            "top": null,
            "visibility": null,
            "width": null
          }
        },
        "b879e8d9464c4d31b48de455f4d688f2": {
          "model_module": "@jupyter-widgets/controls",
          "model_name": "ProgressStyleModel",
          "model_module_version": "1.5.0",
          "state": {
            "_model_module": "@jupyter-widgets/controls",
            "_model_module_version": "1.5.0",
            "_model_name": "ProgressStyleModel",
            "_view_count": null,
            "_view_module": "@jupyter-widgets/base",
            "_view_module_version": "1.2.0",
            "_view_name": "StyleView",
            "bar_color": null,
            "description_width": ""
          }
        },
        "631ee568d0cc4d6488ef8d09d5f1e6ce": {
          "model_module": "@jupyter-widgets/base",
          "model_name": "LayoutModel",
          "model_module_version": "1.2.0",
          "state": {
            "_model_module": "@jupyter-widgets/base",
            "_model_module_version": "1.2.0",
            "_model_name": "LayoutModel",
            "_view_count": null,
            "_view_module": "@jupyter-widgets/base",
            "_view_module_version": "1.2.0",
            "_view_name": "LayoutView",
            "align_content": null,
            "align_items": null,
            "align_self": null,
            "border": null,
            "bottom": null,
            "display": null,
            "flex": null,
            "flex_flow": null,
            "grid_area": null,
            "grid_auto_columns": null,
            "grid_auto_flow": null,
            "grid_auto_rows": null,
            "grid_column": null,
            "grid_gap": null,
            "grid_row": null,
            "grid_template_areas": null,
            "grid_template_columns": null,
            "grid_template_rows": null,
            "height": null,
            "justify_content": null,
            "justify_items": null,
            "left": null,
            "margin": null,
            "max_height": null,
            "max_width": null,
            "min_height": null,
            "min_width": null,
            "object_fit": null,
            "object_position": null,
            "order": null,
            "overflow": null,
            "overflow_x": null,
            "overflow_y": null,
            "padding": null,
            "right": null,
            "top": null,
            "visibility": null,
            "width": null
          }
        },
        "b347d69ea99348809a902a847665b230": {
          "model_module": "@jupyter-widgets/controls",
          "model_name": "DescriptionStyleModel",
          "model_module_version": "1.5.0",
          "state": {
            "_model_module": "@jupyter-widgets/controls",
            "_model_module_version": "1.5.0",
            "_model_name": "DescriptionStyleModel",
            "_view_count": null,
            "_view_module": "@jupyter-widgets/base",
            "_view_module_version": "1.2.0",
            "_view_name": "StyleView",
            "description_width": ""
          }
        },
        "0639a3909c614d058c75519286f6ba75": {
          "model_module": "@jupyter-widgets/controls",
          "model_name": "HBoxModel",
          "model_module_version": "1.5.0",
          "state": {
            "_dom_classes": [],
            "_model_module": "@jupyter-widgets/controls",
            "_model_module_version": "1.5.0",
            "_model_name": "HBoxModel",
            "_view_count": null,
            "_view_module": "@jupyter-widgets/controls",
            "_view_module_version": "1.5.0",
            "_view_name": "HBoxView",
            "box_style": "",
            "children": [
              "IPY_MODEL_ba8a4eaee2e94c1981f80af996480427",
              "IPY_MODEL_2b42bf0ca00b47299a4ff18f4ca9eb4f",
              "IPY_MODEL_f2f9ef4291d745babdea0f856268378f"
            ],
            "layout": "IPY_MODEL_af3c955b6086403ab5c0aeb086e04317"
          }
        },
        "ba8a4eaee2e94c1981f80af996480427": {
          "model_module": "@jupyter-widgets/controls",
          "model_name": "HTMLModel",
          "model_module_version": "1.5.0",
          "state": {
            "_dom_classes": [],
            "_model_module": "@jupyter-widgets/controls",
            "_model_module_version": "1.5.0",
            "_model_name": "HTMLModel",
            "_view_count": null,
            "_view_module": "@jupyter-widgets/controls",
            "_view_module_version": "1.5.0",
            "_view_name": "HTMLView",
            "description": "",
            "description_tooltip": null,
            "layout": "IPY_MODEL_ba932f66a5a2427994c5645ae205cb18",
            "placeholder": "​",
            "style": "IPY_MODEL_b676e38a65554b8fae3f61219a64334f",
            "value": "Batched summarising: 100%"
          }
        },
        "2b42bf0ca00b47299a4ff18f4ca9eb4f": {
          "model_module": "@jupyter-widgets/controls",
          "model_name": "FloatProgressModel",
          "model_module_version": "1.5.0",
          "state": {
            "_dom_classes": [],
            "_model_module": "@jupyter-widgets/controls",
            "_model_module_version": "1.5.0",
            "_model_name": "FloatProgressModel",
            "_view_count": null,
            "_view_module": "@jupyter-widgets/controls",
            "_view_module_version": "1.5.0",
            "_view_name": "ProgressView",
            "bar_style": "success",
            "description": "",
            "description_tooltip": null,
            "layout": "IPY_MODEL_3c5c826048b246178e59f92905b8a5d1",
            "max": 3,
            "min": 0,
            "orientation": "horizontal",
            "style": "IPY_MODEL_b21e8d62467a4d13be0e1810d5dc5d98",
            "value": 3
          }
        },
        "f2f9ef4291d745babdea0f856268378f": {
          "model_module": "@jupyter-widgets/controls",
          "model_name": "HTMLModel",
          "model_module_version": "1.5.0",
          "state": {
            "_dom_classes": [],
            "_model_module": "@jupyter-widgets/controls",
            "_model_module_version": "1.5.0",
            "_model_name": "HTMLModel",
            "_view_count": null,
            "_view_module": "@jupyter-widgets/controls",
            "_view_module_version": "1.5.0",
            "_view_name": "HTMLView",
            "description": "",
            "description_tooltip": null,
            "layout": "IPY_MODEL_7d44dc11ebf540219d77a375e5f788e9",
            "placeholder": "​",
            "style": "IPY_MODEL_bd9a2e2d80a14b5d9c95970495b2b31a",
            "value": " 3/3 [00:03&lt;00:00,  1.34s/it]"
          }
        },
        "af3c955b6086403ab5c0aeb086e04317": {
          "model_module": "@jupyter-widgets/base",
          "model_name": "LayoutModel",
          "model_module_version": "1.2.0",
          "state": {
            "_model_module": "@jupyter-widgets/base",
            "_model_module_version": "1.2.0",
            "_model_name": "LayoutModel",
            "_view_count": null,
            "_view_module": "@jupyter-widgets/base",
            "_view_module_version": "1.2.0",
            "_view_name": "LayoutView",
            "align_content": null,
            "align_items": null,
            "align_self": null,
            "border": null,
            "bottom": null,
            "display": null,
            "flex": null,
            "flex_flow": null,
            "grid_area": null,
            "grid_auto_columns": null,
            "grid_auto_flow": null,
            "grid_auto_rows": null,
            "grid_column": null,
            "grid_gap": null,
            "grid_row": null,
            "grid_template_areas": null,
            "grid_template_columns": null,
            "grid_template_rows": null,
            "height": null,
            "justify_content": null,
            "justify_items": null,
            "left": null,
            "margin": null,
            "max_height": null,
            "max_width": null,
            "min_height": null,
            "min_width": null,
            "object_fit": null,
            "object_position": null,
            "order": null,
            "overflow": null,
            "overflow_x": null,
            "overflow_y": null,
            "padding": null,
            "right": null,
            "top": null,
            "visibility": null,
            "width": null
          }
        },
        "ba932f66a5a2427994c5645ae205cb18": {
          "model_module": "@jupyter-widgets/base",
          "model_name": "LayoutModel",
          "model_module_version": "1.2.0",
          "state": {
            "_model_module": "@jupyter-widgets/base",
            "_model_module_version": "1.2.0",
            "_model_name": "LayoutModel",
            "_view_count": null,
            "_view_module": "@jupyter-widgets/base",
            "_view_module_version": "1.2.0",
            "_view_name": "LayoutView",
            "align_content": null,
            "align_items": null,
            "align_self": null,
            "border": null,
            "bottom": null,
            "display": null,
            "flex": null,
            "flex_flow": null,
            "grid_area": null,
            "grid_auto_columns": null,
            "grid_auto_flow": null,
            "grid_auto_rows": null,
            "grid_column": null,
            "grid_gap": null,
            "grid_row": null,
            "grid_template_areas": null,
            "grid_template_columns": null,
            "grid_template_rows": null,
            "height": null,
            "justify_content": null,
            "justify_items": null,
            "left": null,
            "margin": null,
            "max_height": null,
            "max_width": null,
            "min_height": null,
            "min_width": null,
            "object_fit": null,
            "object_position": null,
            "order": null,
            "overflow": null,
            "overflow_x": null,
            "overflow_y": null,
            "padding": null,
            "right": null,
            "top": null,
            "visibility": null,
            "width": null
          }
        },
        "b676e38a65554b8fae3f61219a64334f": {
          "model_module": "@jupyter-widgets/controls",
          "model_name": "DescriptionStyleModel",
          "model_module_version": "1.5.0",
          "state": {
            "_model_module": "@jupyter-widgets/controls",
            "_model_module_version": "1.5.0",
            "_model_name": "DescriptionStyleModel",
            "_view_count": null,
            "_view_module": "@jupyter-widgets/base",
            "_view_module_version": "1.2.0",
            "_view_name": "StyleView",
            "description_width": ""
          }
        },
        "3c5c826048b246178e59f92905b8a5d1": {
          "model_module": "@jupyter-widgets/base",
          "model_name": "LayoutModel",
          "model_module_version": "1.2.0",
          "state": {
            "_model_module": "@jupyter-widgets/base",
            "_model_module_version": "1.2.0",
            "_model_name": "LayoutModel",
            "_view_count": null,
            "_view_module": "@jupyter-widgets/base",
            "_view_module_version": "1.2.0",
            "_view_name": "LayoutView",
            "align_content": null,
            "align_items": null,
            "align_self": null,
            "border": null,
            "bottom": null,
            "display": null,
            "flex": null,
            "flex_flow": null,
            "grid_area": null,
            "grid_auto_columns": null,
            "grid_auto_flow": null,
            "grid_auto_rows": null,
            "grid_column": null,
            "grid_gap": null,
            "grid_row": null,
            "grid_template_areas": null,
            "grid_template_columns": null,
            "grid_template_rows": null,
            "height": null,
            "justify_content": null,
            "justify_items": null,
            "left": null,
            "margin": null,
            "max_height": null,
            "max_width": null,
            "min_height": null,
            "min_width": null,
            "object_fit": null,
            "object_position": null,
            "order": null,
            "overflow": null,
            "overflow_x": null,
            "overflow_y": null,
            "padding": null,
            "right": null,
            "top": null,
            "visibility": null,
            "width": null
          }
        },
        "b21e8d62467a4d13be0e1810d5dc5d98": {
          "model_module": "@jupyter-widgets/controls",
          "model_name": "ProgressStyleModel",
          "model_module_version": "1.5.0",
          "state": {
            "_model_module": "@jupyter-widgets/controls",
            "_model_module_version": "1.5.0",
            "_model_name": "ProgressStyleModel",
            "_view_count": null,
            "_view_module": "@jupyter-widgets/base",
            "_view_module_version": "1.2.0",
            "_view_name": "StyleView",
            "bar_color": null,
            "description_width": ""
          }
        },
        "7d44dc11ebf540219d77a375e5f788e9": {
          "model_module": "@jupyter-widgets/base",
          "model_name": "LayoutModel",
          "model_module_version": "1.2.0",
          "state": {
            "_model_module": "@jupyter-widgets/base",
            "_model_module_version": "1.2.0",
            "_model_name": "LayoutModel",
            "_view_count": null,
            "_view_module": "@jupyter-widgets/base",
            "_view_module_version": "1.2.0",
            "_view_name": "LayoutView",
            "align_content": null,
            "align_items": null,
            "align_self": null,
            "border": null,
            "bottom": null,
            "display": null,
            "flex": null,
            "flex_flow": null,
            "grid_area": null,
            "grid_auto_columns": null,
            "grid_auto_flow": null,
            "grid_auto_rows": null,
            "grid_column": null,
            "grid_gap": null,
            "grid_row": null,
            "grid_template_areas": null,
            "grid_template_columns": null,
            "grid_template_rows": null,
            "height": null,
            "justify_content": null,
            "justify_items": null,
            "left": null,
            "margin": null,
            "max_height": null,
            "max_width": null,
            "min_height": null,
            "min_width": null,
            "object_fit": null,
            "object_position": null,
            "order": null,
            "overflow": null,
            "overflow_x": null,
            "overflow_y": null,
            "padding": null,
            "right": null,
            "top": null,
            "visibility": null,
            "width": null
          }
        },
        "bd9a2e2d80a14b5d9c95970495b2b31a": {
          "model_module": "@jupyter-widgets/controls",
          "model_name": "DescriptionStyleModel",
          "model_module_version": "1.5.0",
          "state": {
            "_model_module": "@jupyter-widgets/controls",
            "_model_module_version": "1.5.0",
            "_model_name": "DescriptionStyleModel",
            "_view_count": null,
            "_view_module": "@jupyter-widgets/base",
            "_view_module_version": "1.2.0",
            "_view_name": "StyleView",
            "description_width": ""
          }
        }
      }
    }
  },
  "cells": [
    {
      "cell_type": "markdown",
      "source": [
        "install packages"
      ],
      "metadata": {
        "id": "0_gRlvQ6AqpK"
      }
    },
    {
      "cell_type": "code",
      "source": [
        "pip install -q transformers datasets rouge-score sentencepiece matplotlib pandas torch\n"
      ],
      "metadata": {
        "id": "niKCkcVgAk2B"
      },
      "execution_count": 31,
      "outputs": []
    },
    {
      "cell_type": "markdown",
      "source": [
        "imports"
      ],
      "metadata": {
        "id": "jIQH0cgdAr-f"
      }
    },
    {
      "cell_type": "code",
      "execution_count": 32,
      "metadata": {
        "id": "7kkbkCdAAJ-s"
      },
      "outputs": [],
      "source": [
        "import os, time, random\n",
        "import numpy as np\n",
        "import pandas as pd\n",
        "import torch\n",
        "import matplotlib.pyplot as plt\n",
        "\n",
        "from datasets import load_dataset\n",
        "from transformers import T5Tokenizer, T5ForConditionalGeneration\n",
        "from rouge_score import rouge_scorer\n"
      ]
    },
    {
      "cell_type": "markdown",
      "source": [
        "config (seed, device, parameters)"
      ],
      "metadata": {
        "id": "sJm0xBqdA9hY"
      }
    },
    {
      "cell_type": "code",
      "source": [
        "SEED = 42\n",
        "random.seed(SEED); np.random.seed(SEED); torch.manual_seed(SEED)\n",
        "if torch.cuda.is_available(): torch.cuda.manual_seed_all(SEED)\n",
        "\n",
        "DEVICE = torch.device(\"cuda\" if torch.cuda.is_available() else \"cpu\")\n",
        "print(\"Device:\", DEVICE)\n",
        "\n",
        "MODEL_NAME = \"t5-small\"\n",
        "\n",
        "MAX_INPUT_TOKENS  = 512\n",
        "MAX_OUTPUT_TOKENS = 150\n",
        "MIN_OUTPUT_TOKENS = 40\n",
        "NUM_BEAMS         = 4\n",
        "LENGTH_PENALTY    = 2.0\n",
        "\n",
        "SUBSET_SIZE = 10         # you can increase later (e.g., 50/100)\n",
        "HUMAN_EVAL_SIZE = 20     # exported scaffold size for human ratings\n"
      ],
      "metadata": {
        "colab": {
          "base_uri": "https://localhost:8080/"
        },
        "id": "9aitgBjZA-eF",
        "outputId": "85cf2f42-4fe6-44ac-dcb9-7e6048fef3bf"
      },
      "execution_count": 33,
      "outputs": [
        {
          "output_type": "stream",
          "name": "stdout",
          "text": [
            "Device: cuda\n"
          ]
        }
      ]
    },
    {
      "cell_type": "markdown",
      "source": [
        "STEP 3 — load model + tokenizer"
      ],
      "metadata": {
        "id": "qfktzUE0BDcT"
      }
    },
    {
      "cell_type": "code",
      "source": [
        "tokenizer = T5Tokenizer.from_pretrained(MODEL_NAME)\n",
        "model = T5ForConditionalGeneration.from_pretrained(MODEL_NAME).to(DEVICE).eval()\n",
        "print(f\"Loaded {MODEL_NAME}\")\n"
      ],
      "metadata": {
        "colab": {
          "base_uri": "https://localhost:8080/"
        },
        "id": "qi6Zf8hKBGAD",
        "outputId": "4a8fae76-8682-47cc-c348-297b81983aba"
      },
      "execution_count": 34,
      "outputs": [
        {
          "output_type": "stream",
          "name": "stdout",
          "text": [
            "Loaded t5-small\n"
          ]
        }
      ]
    },
    {
      "cell_type": "markdown",
      "source": [
        "STEP 4 — load CNN/DailyMail (non-anonymized 3.0.0) and choose subset"
      ],
      "metadata": {
        "id": "bA34ZyXFBJyr"
      }
    },
    {
      "cell_type": "code",
      "source": [
        "dataset = load_dataset(\"abisee/cnn_dailymail\", \"3.0.0\")\n",
        "test_data = dataset[\"test\"]\n",
        "print(test_data)\n",
        "\n",
        "test_subset = test_data.shuffle(seed=SEED).select(range(min(SUBSET_SIZE, len(test_data))))\n",
        "print(f\"Using {len(test_subset)} test examples.\")\n"
      ],
      "metadata": {
        "colab": {
          "base_uri": "https://localhost:8080/"
        },
        "id": "2BovpFAgBJQj",
        "outputId": "ea2e4e45-4bfa-48f9-bddb-c35c3a8bda1e"
      },
      "execution_count": 35,
      "outputs": [
        {
          "output_type": "stream",
          "name": "stdout",
          "text": [
            "Dataset({\n",
            "    features: ['article', 'highlights', 'id'],\n",
            "    num_rows: 11490\n",
            "})\n",
            "Using 10 test examples.\n"
          ]
        }
      ]
    },
    {
      "cell_type": "markdown",
      "source": [
        "STEP 5 — generator (zero-shot with “summarize:” prefix)"
      ],
      "metadata": {
        "id": "hbMaC0N-BRRq"
      }
    },
    {
      "cell_type": "code",
      "source": [
        "def generate_summary(article_text: str) -> str:\n",
        "    input_text = \"summarize: \" + article_text\n",
        "    inputs = tokenizer(\n",
        "        input_text,\n",
        "        return_tensors=\"pt\",\n",
        "        max_length=MAX_INPUT_TOKENS,\n",
        "        truncation=True\n",
        "    )\n",
        "    inputs = {k: v.to(DEVICE) for k, v in inputs.items()}\n",
        "    with torch.no_grad():\n",
        "        ids = model.generate(\n",
        "            **inputs,\n",
        "            num_beams=NUM_BEAMS,\n",
        "            length_penalty=LENGTH_PENALTY,\n",
        "            max_length=MAX_OUTPUT_TOKENS,\n",
        "            min_length=MIN_OUTPUT_TOKENS,\n",
        "            early_stopping=True,\n",
        "            no_repeat_ngram_size=3,     # prevents 3-gram repeats\n",
        "            repetition_penalty=1.1      # gently discourages loops\n",
        "        )\n",
        "    return tokenizer.decode(ids[0], skip_special_tokens=True)"
      ],
      "metadata": {
        "id": "Kfq7d86cBShZ"
      },
      "execution_count": 36,
      "outputs": []
    },
    {
      "cell_type": "markdown",
      "source": [
        "STEP 6 — ROUGE scorer (F1)"
      ],
      "metadata": {
        "id": "JF6xYRfcBaCI"
      }
    },
    {
      "cell_type": "code",
      "source": [
        "scorer = rouge_scorer.RougeScorer(['rouge1','rouge2','rougeL'], use_stemmer=True)\n"
      ],
      "metadata": {
        "id": "X25UGBemBbwf"
      },
      "execution_count": 37,
      "outputs": []
    },
    {
      "cell_type": "markdown",
      "source": [
        "STEP 7 — run generation + scoring loop"
      ],
      "metadata": {
        "id": "pnKCbrJfBet9"
      }
    },
    {
      "cell_type": "code",
      "source": [
        "rows = []\n",
        "for i, ex in enumerate(test_subset):\n",
        "    article   = ex[\"article\"]\n",
        "    reference = ex[\"highlights\"]\n",
        "\n",
        "    t0 = time.time()\n",
        "    generated = generate_summary(article)\n",
        "    dt = time.time() - t0\n",
        "\n",
        "    scores = scorer.score(reference, generated)\n",
        "    rows.append({\n",
        "        \"id\": i,\n",
        "        \"article\": article,\n",
        "        \"reference_summary\": reference,\n",
        "        \"generated_summary\": generated,\n",
        "        \"rouge1\": scores[\"rouge1\"].fmeasure,\n",
        "        \"rouge2\": scores[\"rouge2\"].fmeasure,\n",
        "        \"rougeL\": scores[\"rougeL\"].fmeasure,\n",
        "        \"gen_time_sec\": dt,\n",
        "        \"device\": str(DEVICE)\n",
        "    })\n",
        "\n",
        "df = pd.DataFrame(rows)\n",
        "print(df.head())\n"
      ],
      "metadata": {
        "colab": {
          "base_uri": "https://localhost:8080/"
        },
        "id": "rlv5T10hBgev",
        "outputId": "ff4ef466-f522-45b7-d70c-fa09adae719b"
      },
      "execution_count": 38,
      "outputs": [
        {
          "output_type": "stream",
          "name": "stdout",
          "text": [
            "   id                                            article  \\\n",
            "0   0  (CNN) I see signs of a revolution everywhere. ...   \n",
            "1   1  He looks barely teenage. But this child has am...   \n",
            "2   2  New Jersey Governor Chris Christie wasn't look...   \n",
            "3   3  YouTube star Cassey Ho has hit back at critics...   \n",
            "4   4  British taekwondo fighter Aaron Cook has confi...   \n",
            "\n",
            "                                   reference_summary  \\\n",
            "0  CNN's Dr. Sanjay Gupta says we should legalize...   \n",
            "1  Child has amassed thousands of Twitter followe...   \n",
            "2  The presidential hopeful held a town hall meet...   \n",
            "3  Cassey Ho boasts over two million subscribers ...   \n",
            "4  Aaron Cook was overlooked by Team GB for the L...   \n",
            "\n",
            "                                   generated_summary    rouge1    rouge2  \\\n",
            "0  new surgeon general says 53% of americans favo...  0.266667  0.027397   \n",
            "1  the little boy, from Memphis, has amassed more...  0.361111  0.028571   \n",
            "2  'he's always taken a very nasty and disrespect...  0.264463  0.050420   \n",
            "3  'Perfect' Body' is a powerful and provocative ...  0.298507  0.092308   \n",
            "4  the taekwondo star has been granted citizenshi...  0.465753  0.112676   \n",
            "\n",
            "     rougeL  gen_time_sec device  \n",
            "0  0.160000      1.521389   cuda  \n",
            "1  0.194444      1.041853   cuda  \n",
            "2  0.148760      0.936508   cuda  \n",
            "3  0.179104      0.635221   cuda  \n",
            "4  0.246575      0.672576   cuda  \n"
          ]
        }
      ]
    },
    {
      "cell_type": "markdown",
      "source": [
        "STEP 8 — save results CSV"
      ],
      "metadata": {
        "id": "zfjIhlLNBmRE"
      }
    },
    {
      "cell_type": "code",
      "source": [
        "OUT_CSV = \"summarization_results_output.csv\"\n",
        "df.to_csv(OUT_CSV, index=False)\n",
        "print(f\"Saved: {OUT_CSV}\")\n"
      ],
      "metadata": {
        "colab": {
          "base_uri": "https://localhost:8080/"
        },
        "id": "wiXiutGIBoC1",
        "outputId": "7fcc692b-8177-4fa9-c3c0-daa2ecb1e6b2"
      },
      "execution_count": 39,
      "outputs": [
        {
          "output_type": "stream",
          "name": "stdout",
          "text": [
            "Saved: summarization_results_output.csv\n"
          ]
        }
      ]
    },
    {
      "cell_type": "markdown",
      "source": [
        "STEP 9 — REAL plots from results (no hard-coded numbers)"
      ],
      "metadata": {
        "id": "4jw4O9TABroC"
      }
    },
    {
      "cell_type": "code",
      "source": [
        "# summary stats\n",
        "summary_stats = df[[\"rouge1\",\"rouge2\",\"rougeL\",\"gen_time_sec\"]].agg([\"mean\",\"std\",\"min\",\"max\"])\n",
        "print(summary_stats)\n",
        "\n",
        "# bar: average ROUGE\n",
        "avg = df[[\"rouge1\",\"rouge2\",\"rougeL\"]].mean()\n",
        "plt.figure(figsize=(6,4))\n",
        "avg.plot(kind=\"bar\")\n",
        "plt.title(\"Average ROUGE (F1) – T5-small Zero-shot on CNN/DailyMail (subset)\")\n",
        "plt.ylabel(\"F1\"); plt.ylim(0,1.0); plt.xticks(rotation=0); plt.tight_layout()\n",
        "plt.savefig(\"avg_rouge_bar.png\", dpi=200, bbox_inches=\"tight\")\n",
        "plt.show()\n",
        "\n",
        "# boxplots: per-sample distribution\n",
        "plt.figure(figsize=(6,4))\n",
        "df[[\"rouge1\",\"rouge2\",\"rougeL\"]].boxplot()\n",
        "plt.title(\"ROUGE Distribution per Sample (F1)\")\n",
        "plt.ylabel(\"F1\"); plt.ylim(0,1.0); plt.tight_layout()\n",
        "plt.savefig(\"rouge_boxplots.png\", dpi=200, bbox_inches=\"tight\")\n",
        "plt.show()\n",
        "\n",
        "# scatter: generated length vs ROUGE-L\n",
        "df[\"gen_len_words\"] = df[\"generated_summary\"].str.split().str.len()\n",
        "plt.figure(figsize=(6,4))\n",
        "plt.scatter(df[\"gen_len_words\"], df[\"rougeL\"], alpha=0.7)\n",
        "plt.title(\"Generated Summary Length vs ROUGE-L (F1)\")\n",
        "plt.xlabel(\"Generated summary length (words)\")\n",
        "plt.ylabel(\"ROUGE-L (F1)\")\n",
        "plt.ylim(0,1.0); plt.tight_layout()\n",
        "plt.savefig(\"len_vs_rougeL.png\", dpi=200, bbox_inches=\"tight\")\n",
        "plt.show()\n"
      ],
      "metadata": {
        "colab": {
          "base_uri": "https://localhost:8080/",
          "height": 1000
        },
        "id": "Nu93RBbCBtQP",
        "outputId": "75f626a9-0bda-46ca-ad1b-fb61dc655358"
      },
      "execution_count": 40,
      "outputs": [
        {
          "output_type": "stream",
          "name": "stdout",
          "text": [
            "        rouge1    rouge2    rougeL  gen_time_sec\n",
            "mean  0.378178  0.130048  0.260556      0.975612\n",
            "std   0.076758  0.086364  0.086719      0.301491\n",
            "min   0.264463  0.027397  0.148760      0.635221\n",
            "max   0.466667  0.277778  0.378378      1.521389\n"
          ]
        },
        {
          "output_type": "display_data",
          "data": {
            "text/plain": [
              "<Figure size 600x400 with 1 Axes>"
            ],
            "image/png": "[encoded data removed]"
          },
          "metadata": {}
        },
        {
          "output_type": "display_data",
          "data": {
            "text/plain": [
              "<Figure size 600x400 with 1 Axes>"
            ],
            "image/png": "[encoded data removed]"
          },
          "metadata": {}
        },
        {
          "output_type": "display_data",
          "data": {
            "text/plain": [
              "<Figure size 600x400 with 1 Axes>"
            ],
            "image/png": "[encoded data removed]"
          },
          "metadata": {}
        }
      ]
    },
    {
      "cell_type": "markdown",
      "source": [
        "STEP 10 — export scaffold for human evaluation"
      ],
      "metadata": {
        "id": "FivFvGjJBxoA"
      }
    },
    {
      "cell_type": "code",
      "source": [
        "he_size = min(HUMAN_EVAL_SIZE, len(df))\n",
        "he_subset = df.sample(n=he_size, random_state=SEED).copy()\n",
        "\n",
        "HUMAN_EVAL_CSV = \"human_eval_scaffold.csv\"\n",
        "he_subset[[\"id\",\"generated_summary\",\"reference_summary\"]].assign(\n",
        "    **{\n",
        "        \"Fluency(1-5)\": \"\",\n",
        "        \"Coherence(1-5)\": \"\",\n",
        "        \"Faithfulness(1-5)\": \"\",\n",
        "        \"Hallucination(0/1)\": \"\",\n",
        "        \"Notes\": \"\"\n",
        "    }\n",
        ").to_csv(HUMAN_EVAL_CSV, index=False)\n",
        "\n",
        "print(f\"Saved: {HUMAN_EVAL_CSV}\")\n"
      ],
      "metadata": {
        "colab": {
          "base_uri": "https://localhost:8080/"
        },
        "id": "HX7kVzCeByTy",
        "outputId": "f3db7a16-3294-43e5-e208-bd0428e4ddde"
      },
      "execution_count": 41,
      "outputs": [
        {
          "output_type": "stream",
          "name": "stdout",
          "text": [
            "Saved: human_eval_scaffold.csv\n"
          ]
        }
      ]
    },
    {
      "cell_type": "markdown",
      "source": [
        "STEP 11 — tiny pytest for your pipeline (put in test_pipeline.py)"
      ],
      "metadata": {
        "id": "EeOZi339B1Lx"
      }
    },
    {
      "cell_type": "code",
      "source": [
        "# test_pipeline.py\n",
        "import pandas as pd\n",
        "\n",
        "def test_results_columns_exist():\n",
        "    df = pd.read_csv(\"summarization_results_output.csv\")\n",
        "    expected = {\"article\",\"reference_summary\",\"generated_summary\",\"rouge1\",\"rouge2\",\"rougeL\"}\n",
        "    assert expected.issubset(df.columns)\n",
        "\n",
        "def test_rouge_ranges():\n",
        "    df = pd.read_csv(\"summarization_results_output.csv\")\n",
        "    for col in [\"rouge1\",\"rouge2\",\"rougeL\"]:\n",
        "        assert ((df[col] >= 0) & (df[col] <= 1)).all()\n"
      ],
      "metadata": {
        "id": "jTxVKpukB6rm"
      },
      "execution_count": 42,
      "outputs": []
    },
    {
      "cell_type": "markdown",
      "source": [],
      "metadata": {
        "id": "rwqKCCeVCftl"
      }
    },
    {
      "cell_type": "code",
      "source": [
        "import os, textwrap\n",
        "import numpy as np\n",
        "import pandas as pd\n",
        "import matplotlib.pyplot as plt\n",
        "\n",
        "# Load the per-sample results you saved earlier\n",
        "DF_PATH = \"summarization_results_output.csv\"\n",
        "df = pd.read_csv(DF_PATH)\n",
        "print(f\"Loaded: {DF_PATH} ({len(df)} rows)\")\n",
        "\n",
        "# Ensure expected columns exist\n",
        "expected = {\"article\",\"reference_summary\",\"generated_summary\",\"rouge1\",\"rouge2\",\"rougeL\"}\n",
        "missing = expected - set(df.columns)\n",
        "assert not missing, f\"Missing columns in results: {missing}\"\n",
        "\n",
        "# (Optional) derived columns\n",
        "if \"gen_len_words\" not in df.columns:\n",
        "    df[\"gen_len_words\"] = df[\"generated_summary\"].str.split().str.len()\n",
        "\n",
        "# Peek\n",
        "df.head()\n"
      ],
      "metadata": {
        "colab": {
          "base_uri": "https://localhost:8080/",
          "height": 414
        },
        "id": "vR8r8yVpCiiu",
        "outputId": "98384156-dddf-4e0e-9c6d-c4563ab9b410"
      },
      "execution_count": 43,
      "outputs": [
        {
          "output_type": "stream",
          "name": "stdout",
          "text": [
            "Loaded: summarization_results_output.csv (10 rows)\n"
          ]
        },
        {
          "output_type": "execute_result",
          "data": {
            "text/plain": [
              "   id                                            article  \\\n",
              "0   0  (CNN) I see signs of a revolution everywhere. ...   \n",
              "1   1  He looks barely teenage. But this child has am...   \n",
              "2   2  New Jersey Governor Chris Christie wasn't look...   \n",
              "3   3  YouTube star Cassey Ho has hit back at critics...   \n",
              "4   4  British taekwondo fighter Aaron Cook has confi...   \n",
              "\n",
              "                                   reference_summary  \\\n",
              "0  CNN's Dr. Sanjay Gupta says we should legalize...   \n",
              "1  Child has amassed thousands of Twitter followe...   \n",
              "2  The presidential hopeful held a town hall meet...   \n",
              "3  Cassey Ho boasts over two million subscribers ...   \n",
              "4  Aaron Cook was overlooked by Team GB for the L...   \n",
              "\n",
              "                                   generated_summary    rouge1    rouge2  \\\n",
              "0  new surgeon general says 53% of americans favo...  0.266667  0.027397   \n",
              "1  the little boy, from Memphis, has amassed more...  0.361111  0.028571   \n",
              "2  'he's always taken a very nasty and disrespect...  0.264463  0.050420   \n",
              "3  'Perfect' Body' is a powerful and provocative ...  0.298507  0.092308   \n",
              "4  the taekwondo star has been granted citizenshi...  0.465753  0.112676   \n",
              "\n",
              "     rougeL  gen_time_sec device  gen_len_words  \n",
              "0  0.160000      1.521389   cuda             46  \n",
              "1  0.194444      1.041853   cuda             38  \n",
              "2  0.148760      0.936508   cuda             44  \n",
              "3  0.179104      0.635221   cuda             35  \n",
              "4  0.246575      0.672576   cuda             33  "
            ],
            "text/html": [
              "\n",
              "  <div id=\"df-3492f4d9-62b5-4bf6-8066-5b396c77bf9a\" class=\"colab-df-container\">\n",
              "    <div>\n",
              "<style scoped>\n",
              "    .dataframe tbody tr th:only-of-type {\n",
              "        vertical-align: middle;\n",
              "    }\n",
              "\n",
              "    .dataframe tbody tr th {\n",
              "        vertical-align: top;\n",
              "    }\n",
              "\n",
              "    .dataframe thead th {\n",
              "        text-align: right;\n",
              "    }\n",
              "</style>\n",
              "<table border=\"1\" class=\"dataframe\">\n",
              "  <thead>\n",
              "    <tr style=\"text-align: right;\">\n",
              "      <th></th>\n",
              "      <th>id</th>\n",
              "      <th>article</th>\n",
              "      <th>reference_summary</th>\n",
              "      <th>generated_summary</th>\n",
              "      <th>rouge1</th>\n",
              "      <th>rouge2</th>\n",
              "      <th>rougeL</th>\n",
              "      <th>gen_time_sec</th>\n",
              "      <th>device</th>\n",
              "      <th>gen_len_words</th>\n",
              "    </tr>\n",
              "  </thead>\n",
              "  <tbody>\n",
              "    <tr>\n",
              "      <th>0</th>\n",
              "      <td>0</td>\n",
              "      <td>(CNN) I see signs of a revolution everywhere. ...</td>\n",
              "      <td>CNN's Dr. Sanjay Gupta says we should legalize...</td>\n",
              "      <td>new surgeon general says 53% of americans favo...</td>\n",
              "      <td>0.266667</td>\n",
              "      <td>0.027397</td>\n",
              "      <td>0.160000</td>\n",
              "      <td>1.521389</td>\n",
              "      <td>cuda</td>\n",
              "      <td>46</td>\n",
              "    </tr>\n",
              "    <tr>\n",
              "      <th>1</th>\n",
              "      <td>1</td>\n",
              "      <td>He looks barely teenage. But this child has am...</td>\n",
              "      <td>Child has amassed thousands of Twitter followe...</td>\n",
              "      <td>the little boy, from Memphis, has amassed more...</td>\n",
              "      <td>0.361111</td>\n",
              "      <td>0.028571</td>\n",
              "      <td>0.194444</td>\n",
              "      <td>1.041853</td>\n",
              "      <td>cuda</td>\n",
              "      <td>38</td>\n",
              "    </tr>\n",
              "    <tr>\n",
              "      <th>2</th>\n",
              "      <td>2</td>\n",
              "      <td>New Jersey Governor Chris Christie wasn't look...</td>\n",
              "      <td>The presidential hopeful held a town hall meet...</td>\n",
              "      <td>'he's always taken a very nasty and disrespect...</td>\n",
              "      <td>0.264463</td>\n",
              "      <td>0.050420</td>\n",
              "      <td>0.148760</td>\n",
              "      <td>0.936508</td>\n",
              "      <td>cuda</td>\n",
              "      <td>44</td>\n",
              "    </tr>\n",
              "    <tr>\n",
              "      <th>3</th>\n",
              "      <td>3</td>\n",
              "      <td>YouTube star Cassey Ho has hit back at critics...</td>\n",
              "      <td>Cassey Ho boasts over two million subscribers ...</td>\n",
              "      <td>'Perfect' Body' is a powerful and provocative ...</td>\n",
              "      <td>0.298507</td>\n",
              "      <td>0.092308</td>\n",
              "      <td>0.179104</td>\n",
              "      <td>0.635221</td>\n",
              "      <td>cuda</td>\n",
              "      <td>35</td>\n",
              "    </tr>\n",
              "    <tr>\n",
              "      <th>4</th>\n",
              "      <td>4</td>\n",
              "      <td>British taekwondo fighter Aaron Cook has confi...</td>\n",
              "      <td>Aaron Cook was overlooked by Team GB for the L...</td>\n",
              "      <td>the taekwondo star has been granted citizenshi...</td>\n",
              "      <td>0.465753</td>\n",
              "      <td>0.112676</td>\n",
              "      <td>0.246575</td>\n",
              "      <td>0.672576</td>\n",
              "      <td>cuda</td>\n",
              "      <td>33</td>\n",
              "    </tr>\n",
              "  </tbody>\n",
              "</table>\n",
              "</div>\n",
              "    <div class=\"colab-df-buttons\">\n",
              "\n",
              "  <div class=\"colab-df-container\">\n",
              "    <button class=\"colab-df-convert\" onclick=\"convertToInteractive('df-3492f4d9-62b5-4bf6-8066-5b396c77bf9a')\"\n",
              "            title=\"Convert this dataframe to an interactive table.\"\n",
              "            style=\"display:none;\">\n",
              "\n",
              "  <svg xmlns=\"http://www.w3.org/2000/svg\" height=\"24px\" viewBox=\"0 -960 960 960\">\n",
              "    <path d=\"M120-120v-720h720v720H120Zm60-500h600v-160H180v160Zm220 220h160v-160H400v160Zm0 220h160v-160H400v160ZM180-400h160v-160H180v160Zm440 0h160v-160H620v160ZM180-180h160v-160H180v160Zm440 0h160v-160H620v160Z\"/>\n",
              "  </svg>\n",
              "    </button>\n",
              "\n",
              "  <style>\n",
              "    .colab-df-container {\n",
              "      display:flex;\n",
              "      gap: 12px;\n",
              "    }\n",
              "\n",
              "    .colab-df-convert {\n",
              "      background-color: #E8F0FE;\n",
              "      border: none;\n",
              "      border-radius: 50%;\n",
              "      cursor: pointer;\n",
              "      display: none;\n",
              "      fill: #1967D2;\n",
              "      height: 32px;\n",
              "      padding: 0 0 0 0;\n",
              "      width: 32px;\n",
              "    }\n",
              "\n",
              "    .colab-df-convert:hover {\n",
              "      background-color: #E2EBFA;\n",
              "      box-shadow: 0px 1px 2px rgba(60, 64, 67, 0.3), 0px 1px 3px 1px rgba(60, 64, 67, 0.15);\n",
              "      fill: #174EA6;\n",
              "    }\n",
              "\n",
              "    .colab-df-buttons div {\n",
              "      margin-bottom: 4px;\n",
              "    }\n",
              "\n",
              "    [theme=dark] .colab-df-convert {\n",
              "      background-color: #3B4455;\n",
              "      fill: #D2E3FC;\n",
              "    }\n",
              "\n",
              "    [theme=dark] .colab-df-convert:hover {\n",
              "      background-color: #434B5C;\n",
              "      box-shadow: 0px 1px 3px 1px rgba(0, 0, 0, 0.15);\n",
              "      filter: drop-shadow(0px 1px 2px rgba(0, 0, 0, 0.3));\n",
              "      fill: #FFFFFF;\n",
              "    }\n",
              "  </style>\n",
              "\n",
              "    <script>\n",
              "      const buttonEl =\n",
              "        document.querySelector('#df-3492f4d9-62b5-4bf6-8066-5b396c77bf9a button.colab-df-convert');\n",
              "      buttonEl.style.display =\n",
              "        google.colab.kernel.accessAllowed ? 'block' : 'none';\n",
              "\n",
              "      async function convertToInteractive(key) {\n",
              "        const element = document.querySelector('#df-3492f4d9-62b5-4bf6-8066-5b396c77bf9a');\n",
              "        const dataTable =\n",
              "          await google.colab.kernel.invokeFunction('convertToInteractive',\n",
              "                                                    [key], {});\n",
              "        if (!dataTable) return;\n",
              "\n",
              "        const docLinkHtml = 'Like what you see? Visit the ' +\n",
              "          '<a target=\"_blank\" href=https://colab.research.google.com/notebooks/data_table.ipynb>data table notebook</a>'\n",
              "          + ' to learn more about interactive tables.';\n",
              "        element.innerHTML = '';\n",
              "        dataTable['output_type'] = 'display_data';\n",
              "        await google.colab.output.renderOutput(dataTable, element);\n",
              "        const docLink = document.createElement('div');\n",
              "        docLink.innerHTML = docLinkHtml;\n",
              "        element.appendChild(docLink);\n",
              "      }\n",
              "    </script>\n",
              "  </div>\n",
              "\n",
              "\n",
              "    <div id=\"df-56b58859-a1de-4cab-8adf-e2b94501b075\">\n",
              "      <button class=\"colab-df-quickchart\" onclick=\"quickchart('df-56b58859-a1de-4cab-8adf-e2b94501b075')\"\n",
              "                title=\"Suggest charts\"\n",
              "                style=\"display:none;\">\n",
              "\n",
              "<svg xmlns=\"http://www.w3.org/2000/svg\" height=\"24px\"viewBox=\"0 0 24 24\"\n",
              "     width=\"24px\">\n",
              "    <g>\n",
              "        <path d=\"M19 3H5c-1.1 0-2 .9-2 2v14c0 1.1.9 2 2 2h14c1.1 0 2-.9 2-2V5c0-1.1-.9-2-2-2zM9 17H7v-7h2v7zm4 0h-2V7h2v10zm4 0h-2v-4h2v4z\"/>\n",
              "    </g>\n",
              "</svg>\n",
              "      </button>\n",
              "\n",
              "<style>\n",
              "  .colab-df-quickchart {\n",
              "      --bg-color: #E8F0FE;\n",
              "      --fill-color: #1967D2;\n",
              "      --hover-bg-color: #E2EBFA;\n",
              "      --hover-fill-color: #174EA6;\n",
              "      --disabled-fill-color: #AAA;\n",
              "      --disabled-bg-color: #DDD;\n",
              "  }\n",
              "\n",
              "  [theme=dark] .colab-df-quickchart {\n",
              "      --bg-color: #3B4455;\n",
              "      --fill-color: #D2E3FC;\n",
              "      --hover-bg-color: #434B5C;\n",
              "      --hover-fill-color: #FFFFFF;\n",
              "      --disabled-bg-color: #3B4455;\n",
              "      --disabled-fill-color: #666;\n",
              "  }\n",
              "\n",
              "  .colab-df-quickchart {\n",
              "    background-color: var(--bg-color);\n",
              "    border: none;\n",
              "    border-radius: 50%;\n",
              "    cursor: pointer;\n",
              "    display: none;\n",
              "    fill: var(--fill-color);\n",
              "    height: 32px;\n",
              "    padding: 0;\n",
              "    width: 32px;\n",
              "  }\n",
              "\n",
              "  .colab-df-quickchart:hover {\n",
              "    background-color: var(--hover-bg-color);\n",
              "    box-shadow: 0 1px 2px rgba(60, 64, 67, 0.3), 0 1px 3px 1px rgba(60, 64, 67, 0.15);\n",
              "    fill: var(--button-hover-fill-color);\n",
              "  }\n",
              "\n",
              "  .colab-df-quickchart-complete:disabled,\n",
              "  .colab-df-quickchart-complete:disabled:hover {\n",
              "    background-color: var(--disabled-bg-color);\n",
              "    fill: var(--disabled-fill-color);\n",
              "    box-shadow: none;\n",
              "  }\n",
              "\n",
              "  .colab-df-spinner {\n",
              "    border: 2px solid var(--fill-color);\n",
              "    border-color: transparent;\n",
              "    border-bottom-color: var(--fill-color);\n",
              "    animation:\n",
              "      spin 1s steps(1) infinite;\n",
              "  }\n",
              "\n",
              "  @keyframes spin {\n",
              "    0% {\n",
              "      border-color: transparent;\n",
              "      border-bottom-color: var(--fill-color);\n",
              "      border-left-color: var(--fill-color);\n",
              "    }\n",
              "    20% {\n",
              "      border-color: transparent;\n",
              "      border-left-color: var(--fill-color);\n",
              "      border-top-color: var(--fill-color);\n",
              "    }\n",
              "    30% {\n",
              "      border-color: transparent;\n",
              "      border-left-color: var(--fill-color);\n",
              "      border-top-color: var(--fill-color);\n",
              "      border-right-color: var(--fill-color);\n",
              "    }\n",
              "    40% {\n",
              "      border-color: transparent;\n",
              "      border-right-color: var(--fill-color);\n",
              "      border-top-color: var(--fill-color);\n",
              "    }\n",
              "    60% {\n",
              "      border-color: transparent;\n",
              "      border-right-color: var(--fill-color);\n",
              "    }\n",
              "    80% {\n",
              "      border-color: transparent;\n",
              "      border-right-color: var(--fill-color);\n",
              "      border-bottom-color: var(--fill-color);\n",
              "    }\n",
              "    90% {\n",
              "      border-color: transparent;\n",
              "      border-bottom-color: var(--fill-color);\n",
              "    }\n",
              "  }\n",
              "</style>\n",
              "\n",
              "      <script>\n",
              "        async function quickchart(key) {\n",
              "          const quickchartButtonEl =\n",
              "            document.querySelector('#' + key + ' button');\n",
              "          quickchartButtonEl.disabled = true;  // To prevent multiple clicks.\n",
              "          quickchartButtonEl.classList.add('colab-df-spinner');\n",
              "          try {\n",
              "            const charts = await google.colab.kernel.invokeFunction(\n",
              "                'suggestCharts', [key], {});\n",
              "          } catch (error) {\n",
              "            console.error('Error during call to suggestCharts:', error);\n",
              "          }\n",
              "          quickchartButtonEl.classList.remove('colab-df-spinner');\n",
              "          quickchartButtonEl.classList.add('colab-df-quickchart-complete');\n",
              "        }\n",
              "        (() => {\n",
              "          let quickchartButtonEl =\n",
              "            document.querySelector('#df-56b58859-a1de-4cab-8adf-e2b94501b075 button');\n",
              "          quickchartButtonEl.style.display =\n",
              "            google.colab.kernel.accessAllowed ? 'block' : 'none';\n",
              "        })();\n",
              "      </script>\n",
              "    </div>\n",
              "\n",
              "    </div>\n",
              "  </div>\n"
            ],
            "application/vnd.google.colaboratory.intrinsic+json": {
              "type": "dataframe",
              "variable_name": "df",
              "summary": "{\n  \"name\": \"df\",\n  \"rows\": 10,\n  \"fields\": [\n    {\n      \"column\": \"id\",\n      \"properties\": {\n        \"dtype\": \"number\",\n        \"std\": 3,\n        \"min\": 0,\n        \"max\": 9,\n        \"num_unique_values\": 10,\n        \"samples\": [\n          8,\n          1,\n          5\n        ],\n        \"semantic_type\": \"\",\n        \"description\": \"\"\n      }\n    },\n    {\n      \"column\": \"article\",\n      \"properties\": {\n        \"dtype\": \"string\",\n        \"num_unique_values\": 10,\n        \"samples\": [\n          \"As Prime Minister David Cameron puts it, on St George\\u2019s Day  we should \\u2018celebrate everything it is to be English\\u2019. But what does it mean to be English? From the Romans, Saxons and Normans many hundreds of years ago to those from Africa, the Indian sub-continent and the Philippines today, England has always been shaped by migration. To mark St George\\u2019s Day today, with a little help from WorldRemit, FEMAIL reveals the seemingly very English things that have actually been brought to England by people from abroad - and you may be surprised by the origins of your favourite things. Scroll down for video . Fish and chips has become a \\u00a0British institution, as well as a national money-spinner, but it is actually believed to be partly Portuguese and partly Belgian . FISH AND CHIPS . They're a British institution as well as a national money-spinner, but how much do we really know about fish and chips? For most of us, the classic combination of battered fish and chipped potatoes deep-fried in beef fat or vegetable oil is as English as the cup of tea that washes it down. But just as tea originates in India or China, fish and chips is partly Portuguese and partly Belgian. The British can take credit for uniting these two Continental imports and creating a coupling that is loved the world over. One hundred and fifty years ago, in 1860, on the streets of the East End of London, 13-year-old Jewish boy called Joseph Malin had the bright idea of combining fried fish with chips. Joseph's family were rug weavers. To increase the family income they had begun frying chips in a downstairs room of their house. It was Joseph's idea to combine the chips - at that point a novelty in London - with fish from a nearby fried fish shop. Fried fish already had a long history in London. In a letter written at the end of the 18th Century, future American President Thomas Jefferson described eating 'fried fish in the Jewish fashion' on a visit to the capital. Battered fried fish had first arrived in London 200 years earlier with Jewish refugees from Portugal and Spain. They brought with them a way of cooking fish that would eventually become as British as Sherlock Holmes. The actual origins of polo are unclear but historians are convinced it originated in Persia or amongst the Iranian tribes of Central Asia and was introduced to Brits by\\u00a0locals in the Indian state of Assam . By the 1830s, the imported novelty had established itself firmly as a favourite among London's poor. It was tasty, cheap and filling and could be eaten hot or cold. In 1846, a Jewish cookbook published in London included a recipe for fried fish. Eight years later, A Shilling Cookery For The People by French chef Alexis Soyer contained the first printed recipe for 'fried cooked potatoes'. The seal of respectability came when Victorian cook Eliza Acton, the forerunner of Mrs Beeton, suggested eating fried fish with vinegar to sweeten the taste. No one knows exactly how and where chips first originated. The most popular story credits a poor Belgian housewife from the Meuse Valley with their invention. In the winter of 1680, the river froze. Unable to get hold of any fish for her family, she cut potatoes into fish shapes and fried them instead. POLO . Is anything more English than rubbing shoulders with the high-rollers at a polo match at the height of summer? The actual origins of the game are unclear but historians are convinced it originated in  Persia or amongst the Iranian tribes of Central Asia. The first-ever recorded polo tournament was way back in 600BC when the Turkomans beat the Persians in a match. The game of polo spread quickly across the eastern world and became popular among Indians, who were introduced to the sport by the early Mohammedan invaders in the 13th century. Did you know that the tea bag was accidentally invented by a New York tea merchant? Yet English plantation owners actually learned polo from locals in the Indian state of Assam in the 19th century. Later popularised by royalty, it became the sport of wealthy Englishmen. TEA . We all know the English love a good cuppa. A lot of people know that tea was first grown in China, which was then taken to India by the British. But did you know that the tea bag was accidentally invented by a New York tea merchant? Invented by tea merchant Thomas Sullivan in New York City in June 1908, they can now be found in virtually every one of Britain's  homes. But if it wasn't for a handful of confused Americans, the tea bag may never have made it into our cups at all. They came about only after Mr Sullivan, in an attempt to cut costs, sent samples of tea leaves to potential customers in small silk pouch-like purses. Unsure quite what to do with the strange little bag, the Americans dunked it into a cup of hot water. And so was born the tea bag. After complaints that the mesh on the silk was too fine, Mr Sullivan developed sachets made of gauze - a method which was instrumental in today's tea bag design. But it was not until 1953, when British tea producer Tetley spotted the commercial potential of the bag, that it began to take off here. The firm now sells around 200million tea bags every week. PUBS . Long have the British population relished a pint in the local pub, but their creation is all thanks to the arrival of the Romans almost two thousand years ago. When they created the Roman road network, they opened little inns where a passer-by could enjoy a refreshing beverage en route to their destination. Originally called Tabernae, they began selling food and wine as well as ale. After the departure of the Romans, Alehouses began opening up all over the country. Saint George himself is thought to have been born in Syria during the late third century between about 275 AD and 285 AD . ST GEORGE . Believe it or not, even Saint George himself is thought to have been born abroad\\u00a0during the late third century between about 275 AD and 285 AD. Although historians have argued the Roman soldier's place of birth for over a century, it is believed that Saint George was born to a Greek Christian noble family in Syria. ENIGMA CODE . To many, the name Bletchley Park is synonymous with code-breaking glory by the British during World War Two. After all, it was there that Englishman Alan Turing and his team of mathematicians cracked the ciphers of the Nazis' Enigma machine - a feat credited with shortening the war by two years - and one depicted in award-winning movie The Imitation Game starring Keira Knightley and Benedict Cumberbatch. But in 2012, the Polish Government launched a campaign to highlight the important - and overlooked - role played by its nation in solving the Enigma code. Poles claim that Polish code breakers in Warsaw were the first ones to break Germany\\u2019s Enigma code by understanding the mathematics, left.\\u00a0People from Liverpool, like the Rooneys, right, are often called 'Scousers', which is short for \\u2018Lobscouse\\u2019, which was a Scandinavian stew eaten by the sailors who visited the port . In 1932, a group of cryptologists from the Polish Cipher Bureau - Marian Rejewski, Jerzy Rozycki and Henryk Zygalski - discovered three ways of deciphering Enigma readings. Seven years later, just before war broke out, the Poles handed over their knowledge of the Enigma codes, as well as Polish-built replicas of the machines, to British and French Intelligence officers near Warsaw. SCOUSERS . People from Liverpool are often called \\u2018Scousers\\u2019. The name is short for \\u2018Lobscouse\\u2019, which was a Scandinavian stew eaten by the sailors who visited the port. Local families adopted the dish, and the name stuck.\",\n          \"He looks barely teenage. But this child has amassed thousands of Twitter followers with his pictorial updates of 'gang life'. The baby-faced boy from Memphis, Tennessee, poses with guns, cash, and bags of what looks like marijuana. Scroll down for video . Baby-faced: This little boy has amassed more than 3,000 followers on Twitter with pictures like these . In many pictures he is smoking suspicious substances, with captions such as 'High Life' Backlash: The boy, from Memphis, has prompted a wave of critics calling his stunts 'sad' In one video he laughs and points the gun at the camera in an apparent attempt to look menacing - as adults laugh in the background. In others, he is pictured blowing smoke, with the caption: 'High Life'. Tweets include the phrases, 'I need a bad b****', 'f*** da police', and 'gang sh** n****'. Some feature sexual references, such as: 'quit suckin my d***'. As he is a minor, DailyMail.com will not identify the little boy. The child's tweets have prompted backlash from other Twitter users and members of the community. One woman tweeted him: 'you need help i feel so bad for you your parents should be ashamed please get help and a education this is sad and disappointing.' Another Twitter user said: 'You poor baby. Just stop it & go to school.' Adults around: Many of his pictures and videos are taken with adults who are seen laughing, unfazed . Guns: The little boy, who appears to be barely teenage, regularly poses for his followers with guns . The boy hit back at his critics claiming he has had a tough year and the backlash is 'stressing out' his mother . Orrden Williams, a Memphis resident who has been the victim of gang violence, told AOL.com: 'What he's doing on here is something that he's going to bring upon society one day. It's just inevitable.' He added: 'All it takes is the right influence, and all this can change. So that's a wake-up Memphis call right there.' Hitting back at critics, the boy tweeted on Friday: 'Wish some people would mind dey own business' as 'it's stressing my mama out'. He adds that his sister has 'been locked up for two years' and his critics 'don't know the half of what we been through end of 2014 & beg of 2015.' Authorities are increasingly cognizant of Twitter as a means of perpetuating gang culture. While many like this young boy use it as a forum to flaunt their drugs and guns, around 50 per cent of organized gangs maintain in the United States maintain a social media profile.\",\n          \"As the countdown continues to Floyd Mayweather's mega-fight with Manny Pacquiao in Las Vegas on May 2, The Money Man's daughter Iyanna Mayweather has shared her thoughts about life in training with her champion father. Mayweather vs Pacquiao will generate revenue upwards of $300 million in what is being billed as the most lucrative bout in boxing history and, ahead of the May showdown, Iyanna Mayweather offered some insight into her dad's intense training regime. 'When I watch my dad train, it's inspiring to me,' she said. Iyanna Mayweather has been spending time in her father Floyd's training camp . Iyanna watches on as her champion dad gets through another gruelling training session . Iyanna says she is amazed by her dad's work ethic in the gym and is amazed by his jump rump skills . 'To work at hard not only at working out, but to work hard at everything. 'I think my dad fighting Pacquiao... it's just another fight in my opinion.' Floyd Mayweather and\\u00a0Pacquiao have been keeping boxing fans updated daily on social media with their training schedules and\\u00a0Iyanna Mayweather explained how impressed she was with her father's work ethic in the gym. 'I like watching my dad jump rope because I've never seen anyone jump rope like that before,' she added. Mayweather posted an update to his Instagram account on Friday as he embarked on another shopping trip . 'It's fun coming to the gym because when dad's not in training camp, the Money team doesn't see each other often so when my dad gets back in training camp, we get back to seeing each other. 'We hang out a lot, we play around, we just have fun outside of the gym. My dad is my best friend.'\"\n        ],\n        \"semantic_type\": \"\",\n        \"description\": \"\"\n      }\n    },\n    {\n      \"column\": \"reference_summary\",\n      \"properties\": {\n        \"dtype\": \"string\",\n        \"num_unique_values\": 10,\n        \"samples\": [\n          \"Fish and chips has believed to be partly Portuguese and partly Belgian .\\nThe tea bag was accidentally invented by a New York tea merchant .\\nSaint George himself is thought to have been born in Syria .\",\n          \"Child has amassed thousands of Twitter followers with 'gang life' photos .\\nIn one video he points gun at camera as adults look on unfazed .\\nHis tweets have prompted backlash with calls for intervention .\",\n          \"Floyd Mayweather will fight Manny Pacquiao in Las Vegas on May 2 .\\nThe bout is expected to generate $300 million in revenue .\\nIyanna Mayweather has been in training camp with her father Floyd .\"\n        ],\n        \"semantic_type\": \"\",\n        \"description\": \"\"\n      }\n    },\n    {\n      \"column\": \"generated_summary\",\n      \"properties\": {\n        \"dtype\": \"string\",\n        \"num_unique_values\": 10,\n        \"samples\": [\n          \"fish and chips has become a British institution, as well as a national money-spinner. but it is actually believed to be partly Portuguese and partly Belgian. fried fish already had a long history in London 200 years earlier.\",\n          \"the little boy, from Memphis, has amassed more than 3,000 followers on twitter. he regularly poses with guns, cash, and bags of what looks like marijuana. in many pictures he is smoking suspicious substances, with captions 'High Life'\",\n          \"Floyd Mayweather vs Pacquiao will generate revenue upwards of $300 million in what is being billed as the most lucrative bout in boxing history. the money man's daughter Iyanna Mayweather has shared her thoughts about life in training with her champion father. she said she is amazed by her dad's work ethic in the gym.\"\n        ],\n        \"semantic_type\": \"\",\n        \"description\": \"\"\n      }\n    },\n    {\n      \"column\": \"rouge1\",\n      \"properties\": {\n        \"dtype\": \"number\",\n        \"std\": 0.07675842412759956,\n        \"min\": 0.2644628099173553,\n        \"max\": 0.4666666666666667,\n        \"num_unique_values\": 10,\n        \"samples\": [\n          0.4054054054054054,\n          0.361111111111111,\n          0.4666666666666667\n        ],\n        \"semantic_type\": \"\",\n        \"description\": \"\"\n      }\n    },\n    {\n      \"column\": \"rouge2\",\n      \"properties\": {\n        \"dtype\": \"number\",\n        \"std\": 0.08636436540552102,\n        \"min\": 0.0273972602739726,\n        \"max\": 0.2777777777777777,\n        \"num_unique_values\": 10,\n        \"samples\": [\n          0.2777777777777777,\n          0.0285714285714285,\n          0.1590909090909091\n        ],\n        \"semantic_type\": \"\",\n        \"description\": \"\"\n      }\n    },\n    {\n      \"column\": \"rougeL\",\n      \"properties\": {\n        \"dtype\": \"number\",\n        \"std\": 0.08671873642544241,\n        \"min\": 0.1487603305785123,\n        \"max\": 0.3783783783783784,\n        \"num_unique_values\": 10,\n        \"samples\": [\n          0.3783783783783784,\n          0.1944444444444444,\n          0.3333333333333333\n        ],\n        \"semantic_type\": \"\",\n        \"description\": \"\"\n      }\n    },\n    {\n      \"column\": \"gen_time_sec\",\n      \"properties\": {\n        \"dtype\": \"number\",\n        \"std\": 0.3014913842187785,\n        \"min\": 0.6352205276489258,\n        \"max\": 1.5213887691497805,\n        \"num_unique_values\": 10,\n        \"samples\": [\n          0.6638627052307129,\n          1.041852951049805,\n          0.949183702468872\n        ],\n        \"semantic_type\": \"\",\n        \"description\": \"\"\n      }\n    },\n    {\n      \"column\": \"device\",\n      \"properties\": {\n        \"dtype\": \"category\",\n        \"num_unique_values\": 1,\n        \"samples\": [\n          \"cuda\"\n        ],\n        \"semantic_type\": \"\",\n        \"description\": \"\"\n      }\n    },\n    {\n      \"column\": \"gen_len_words\",\n      \"properties\": {\n        \"dtype\": \"number\",\n        \"std\": 11,\n        \"min\": 33,\n        \"max\": 72,\n        \"num_unique_values\": 8,\n        \"samples\": [\n          38\n        ],\n        \"semantic_type\": \"\",\n        \"description\": \"\"\n      }\n    }\n  ]\n}"
            }
          },
          "metadata": {},
          "execution_count": 43
        }
      ]
    },
    {
      "cell_type": "markdown",
      "source": [
        "summary tables (ROUGE + time)"
      ],
      "metadata": {
        "id": "CNnUnvwBCkQ7"
      }
    },
    {
      "cell_type": "code",
      "source": [
        "metrics = [\"rouge1\",\"rouge2\",\"rougeL\"]\n",
        "stats = df[metrics + ([\"gen_time_sec\"] if \"gen_time_sec\" in df.columns else [])] \\\n",
        "           .agg([\"mean\",\"std\",\"min\",\"max\"]).round(3)\n",
        "print(\"Summary stats (F1 for ROUGE; seconds for time):\")\n",
        "print(stats)\n",
        "\n",
        "# Save a table you can attach in the dissertation/appendix\n",
        "stats.to_csv(\"results_summary_stats.csv\")\n",
        "print(\"Saved: results_summary_stats.csv\")\n"
      ],
      "metadata": {
        "colab": {
          "base_uri": "https://localhost:8080/"
        },
        "id": "gMEXLISqCmv0",
        "outputId": "328bc96d-6f70-4a52-e676-16270f0f7241"
      },
      "execution_count": 44,
      "outputs": [
        {
          "output_type": "stream",
          "name": "stdout",
          "text": [
            "Summary stats (F1 for ROUGE; seconds for time):\n",
            "      rouge1  rouge2  rougeL  gen_time_sec\n",
            "mean   0.378   0.130   0.261         0.976\n",
            "std    0.077   0.086   0.087         0.301\n",
            "min    0.264   0.027   0.149         0.635\n",
            "max    0.467   0.278   0.378         1.521\n",
            "Saved: results_summary_stats.csv\n"
          ]
        }
      ]
    },
    {
      "cell_type": "markdown",
      "source": [
        "bar chart of average ROUGE"
      ],
      "metadata": {
        "id": "7Fwbd9hJCq9W"
      }
    },
    {
      "cell_type": "code",
      "source": [
        "avg = df[metrics].mean()\n",
        "plt.figure(figsize=(6,4))\n",
        "avg.plot(kind=\"bar\")\n",
        "plt.title(\"Average ROUGE (F1) – T5-small Zero-shot on CNN/DailyMail (subset)\")\n",
        "plt.ylabel(\"F1\"); plt.ylim(0,1.0); plt.xticks(rotation=0); plt.tight_layout()\n",
        "plt.savefig(\"fig_avg_rouge.png\", dpi=200, bbox_inches=\"tight\")\n",
        "plt.show()\n",
        "print(\"Saved: fig_avg_rouge.png\")\n"
      ],
      "metadata": {
        "colab": {
          "base_uri": "https://localhost:8080/",
          "height": 424
        },
        "id": "Sa7oeKr-Crdg",
        "outputId": "8f6189b0-01a9-4ba9-c81f-c7105057078c"
      },
      "execution_count": 45,
      "outputs": [
        {
          "output_type": "display_data",
          "data": {
            "text/plain": [
              "<Figure size 600x400 with 1 Axes>"
            ],
            "image/png": "[encoded data removed]"
          },
          "metadata": {}
        },
        {
          "output_type": "stream",
          "name": "stdout",
          "text": [
            "Saved: fig_avg_rouge.png\n"
          ]
        }
      ]
    },
    {
      "cell_type": "markdown",
      "source": [
        "boxplots: per-sample distribution"
      ],
      "metadata": {
        "id": "YYmbxTwbCxex"
      }
    },
    {
      "cell_type": "code",
      "source": [
        "plt.figure(figsize=(6,4))\n",
        "df[metrics].boxplot()\n",
        "plt.title(\"ROUGE Distribution per Sample (F1)\")\n",
        "plt.ylabel(\"F1\"); plt.ylim(0,1.0); plt.tight_layout()\n",
        "plt.savefig(\"fig_rouge_boxplots.png\", dpi=200, bbox_inches=\"tight\")\n",
        "plt.show()\n",
        "print(\"Saved: fig_rouge_boxplots.png\")\n"
      ],
      "metadata": {
        "colab": {
          "base_uri": "https://localhost:8080/",
          "height": 424
        },
        "id": "k5cDJ6kSCyGg",
        "outputId": "4adb4fc0-ef91-4983-d99b-a63c5d497b16"
      },
      "execution_count": 46,
      "outputs": [
        {
          "output_type": "display_data",
          "data": {
            "text/plain": [
              "<Figure size 600x400 with 1 Axes>"
            ],
            "image/png": "[encoded data removed]"
          },
          "metadata": {}
        },
        {
          "output_type": "stream",
          "name": "stdout",
          "text": [
            "Saved: fig_rouge_boxplots.png\n"
          ]
        }
      ]
    },
    {
      "cell_type": "markdown",
      "source": [
        "generation time histogram"
      ],
      "metadata": {
        "id": "Xev9XKxIC3-I"
      }
    },
    {
      "cell_type": "code",
      "source": [
        "if \"gen_time_sec\" in df.columns:\n",
        "    plt.figure(figsize=(6,4))\n",
        "    plt.hist(df[\"gen_time_sec\"].dropna(), bins=10)\n",
        "    plt.title(\"Generation Time per Sample (seconds)\")\n",
        "    plt.xlabel(\"Seconds\"); plt.ylabel(\"Count\"); plt.tight_layout()\n",
        "    plt.savefig(\"fig_time_hist.png\", dpi=200, bbox_inches=\"tight\")\n",
        "    plt.show()\n",
        "    print(\"Saved: fig_time_hist.png\")\n",
        "else:\n",
        "    print(\"gen_time_sec not found; skipping time histogram.\")\n"
      ],
      "metadata": {
        "colab": {
          "base_uri": "https://localhost:8080/",
          "height": 424
        },
        "id": "xHdr5igyC5jx",
        "outputId": "ebddd61e-0ee5-4203-d66e-230ee1e82d77"
      },
      "execution_count": 47,
      "outputs": [
        {
          "output_type": "display_data",
          "data": {
            "text/plain": [
              "<Figure size 600x400 with 1 Axes>"
            ],
            "image/png": "[encoded data removed]"
          },
          "metadata": {}
        },
        {
          "output_type": "stream",
          "name": "stdout",
          "text": [
            "Saved: fig_time_hist.png\n"
          ]
        }
      ]
    },
    {
      "cell_type": "markdown",
      "source": [
        "scatter: summary length vs ROUGE-L"
      ],
      "metadata": {
        "id": "ysrGyJhoC9DG"
      }
    },
    {
      "cell_type": "code",
      "source": [
        "plt.figure(figsize=(6,4))\n",
        "plt.scatter(df[\"gen_len_words\"], df[\"rougeL\"], alpha=0.7)\n",
        "plt.title(\"Generated Summary Length vs ROUGE-L (F1)\")\n",
        "plt.xlabel(\"Generated summary length (words)\")\n",
        "plt.ylabel(\"ROUGE-L (F1)\")\n",
        "plt.ylim(0,1.0); plt.tight_layout()\n",
        "plt.savefig(\"fig_len_vs_rougeL.png\", dpi=200, bbox_inches=\"tight\")\n",
        "plt.show()\n",
        "print(\"Saved: fig_len_vs_rougeL.png\")\n"
      ],
      "metadata": {
        "colab": {
          "base_uri": "https://localhost:8080/",
          "height": 424
        },
        "id": "7PeRmlygC9zf",
        "outputId": "0440a6d7-c548-483c-fa65-fc9055d213e4"
      },
      "execution_count": 48,
      "outputs": [
        {
          "output_type": "display_data",
          "data": {
            "text/plain": [
              "<Figure size 600x400 with 1 Axes>"
            ],
            "image/png": "[encoded data removed]"
          },
          "metadata": {}
        },
        {
          "output_type": "stream",
          "name": "stdout",
          "text": [
            "Saved: fig_len_vs_rougeL.png\n"
          ]
        }
      ]
    },
    {
      "cell_type": "markdown",
      "source": [
        "top/bottom examples by ROUGE-L (for qualitative analysis)"
      ],
      "metadata": {
        "id": "Q5KdqvGXDClS"
      }
    },
    {
      "cell_type": "code",
      "source": [
        "def show_examples(frame, k=3, sort_col=\"rougeL\", ascending=False, wrap=100):\n",
        "    ex = frame.sort_values(sort_col, ascending=ascending).head(k)\n",
        "    for _, row in ex.iterrows():\n",
        "        print(\"=\"*80)\n",
        "        print(f\"{sort_col.upper()}: {row[sort_col]:.3f}\")\n",
        "        print(\"- Reference summary:\")\n",
        "        print(textwrap.fill(row[\"reference_summary\"], wrap))\n",
        "        print(\"- Generated summary:\")\n",
        "        print(textwrap.fill(row[\"generated_summary\"], wrap))\n",
        "        print()\n",
        "\n",
        "print(\"\\nTOP examples by ROUGE-L:\\n\")\n",
        "show_examples(df, k=3, sort_col=\"rougeL\", ascending=False)\n",
        "\n",
        "print(\"\\nBOTTOM examples by ROUGE-L:\\n\")\n",
        "show_examples(df, k=3, sort_col=\"rougeL\", ascending=True)\n"
      ],
      "metadata": {
        "colab": {
          "base_uri": "https://localhost:8080/"
        },
        "id": "ggtiMzRpDDK0",
        "outputId": "04f0d5b7-5723-4111-be15-5c55d236ea4a"
      },
      "execution_count": 49,
      "outputs": [
        {
          "output_type": "stream",
          "name": "stdout",
          "text": [
            "\n",
            "TOP examples by ROUGE-L:\n",
            "\n",
            "================================================================================\n",
            "ROUGEL: 0.378\n",
            "- Reference summary:\n",
            "Fish and chips has believed to be partly Portuguese and partly Belgian . The tea bag was\n",
            "accidentally invented by a New York tea merchant . Saint George himself is thought to have been born\n",
            "in Syria .\n",
            "- Generated summary:\n",
            "fish and chips has become a British institution, as well as a national money-spinner. but it is\n",
            "actually believed to be partly Portuguese and partly Belgian. fried fish already had a long history\n",
            "in London 200 years earlier.\n",
            "\n",
            "================================================================================\n",
            "ROUGEL: 0.354\n",
            "- Reference summary:\n",
            "Arsene Wenger will have chat with Theo Walcott ahead of Arsenal clash . Walcott was substituted\n",
            "after 55 minutes of England's draw with Italy . Arsenal boss is Wenger is concerned by the winger's\n",
            "confidence . The Gunners take on Liverpool at the Emirates Stadium on Saturday .\n",
            "- Generated summary:\n",
            "theo Walcott was hauled off after 55 minutes of England's 1-1 draw against Italy on Tuesday night.\n",
            "the winger has struggled for game time since returning from a long-term lay-off due to a serious\n",
            "knee injury. arsene wenger admits he is concerned about theo's confidence.\n",
            "\n",
            "================================================================================\n",
            "ROUGEL: 0.336\n",
            "- Reference summary:\n",
            "Duli Hembrom wrote to the principal at Milan Mithi Uchha Vidyalaya . Said parents refused to cancel\n",
            "the wedding and did not want to go ahead . Child Marriage Restraint Act specifies a girl must be 18\n",
            "before she can wed .\n",
            "- Generated summary:\n",
            "a 13-year-old girl has written a letter to her teacher begging her to stop the wedding. she wrote:\n",
            "'i do not want to get married, I took an oath at the time of admission that I will not get married\n",
            "before I turn 18' the child marriage Restraint Act, passed in india during British rule in 1929,\n",
            "stipulated that a girl must be 18 and a boy 21 before they can wed.\n",
            "\n",
            "\n",
            "BOTTOM examples by ROUGE-L:\n",
            "\n",
            "================================================================================\n",
            "ROUGEL: 0.149\n",
            "- Reference summary:\n",
            "The presidential hopeful held a town hall meeting in Kenilworth on Tuesday . During the meeting,\n",
            "high school English teacher Kathy Mooney got up to ask the governor a question about pensions . She\n",
            "asked why he didn't seek a higher legal settlement in a case with ExxonMobil that would have\n",
            "contributed to the state's pension system . Christie responded by repeatedly asking how much Mooney\n",
            "knew about the deal instead of answering her question .\n",
            "- Generated summary:\n",
            "'he's always taken a very nasty and disrespectful tone with teachers and other individuals who dare\n",
            "to question him at these events,' said the state's largest teacher's union. 'I know that you could\n",
            "have gotten more money, on the dollar,' a defensive Christie responded.\n",
            "\n",
            "================================================================================\n",
            "ROUGEL: 0.160\n",
            "- Reference summary:\n",
            "CNN's Dr. Sanjay Gupta says we should legalize medical marijuana now . He says he knows how easy it\n",
            "is do nothing \"because I did nothing for too long\"\n",
            "- Generated summary:\n",
            "new surgeon general says 53% of americans favor legalization, 77% support it for medical purposes.\n",
            "he sees a revolution in the faces of good parents, uprooting their lives to get medicine for their\n",
            "children. \"i am proud of you on the whole marijuana thing,\" he says.\n",
            "\n",
            "================================================================================\n",
            "ROUGEL: 0.179\n",
            "- Reference summary:\n",
            "Cassey Ho boasts over two million subscribers on her YouTube channel Blogilates . The 28-year-old\n",
            "receives hundreds of comments a day telling her that she needs to lose weight .\n",
            "- Generated summary:\n",
            "'Perfect' Body' is a powerful and provocative new video. it highlights the cruel comments she has\n",
            "received from viewers of her videos. the 28-year-old says she has felt bad about herself after\n",
            "reading nasty comments.\n",
            "\n"
          ]
        }
      ]
    },
    {
      "cell_type": "markdown",
      "source": [
        "export a small “examples report” (Markdown)"
      ],
      "metadata": {
        "id": "972rLE-WDJP1"
      }
    },
    {
      "cell_type": "code",
      "source": [
        "def md_escape(s):  # simple guard for pipes/backticks in markdown tables\n",
        "    return str(s).replace(\"|\",\"\\\\|\").replace(\"`\",\"\\\\`\")\n",
        "\n",
        "k = min(5, len(df))\n",
        "top5  = df.sort_values(\"rougeL\", ascending=False).head(k)\n",
        "bot5  = df.sort_values(\"rougeL\", ascending=True).head(k)\n",
        "\n",
        "lines = []\n",
        "lines.append(\"# Summarization Examples Report\\n\")\n",
        "lines.append(\"## Top examples by ROUGE-L\\n\")\n",
        "for _, r in top5.iterrows():\n",
        "    lines += [\n",
        "        f\"**ROUGE-L:** {r['rougeL']:.3f}\",\n",
        "        f\"- **Reference:** {md_escape(r['reference_summary'])}\",\n",
        "        f\"- **Generated:** {md_escape(r['generated_summary'])}\",\n",
        "        \"\"\n",
        "    ]\n",
        "\n",
        "lines.append(\"\\n## Bottom examples by ROUGE-L\\n\")\n",
        "for _, r in bot5.iterrows():\n",
        "    lines += [\n",
        "        f\"**ROUGE-L:** {r['rougeL']:.3f}\",\n",
        "        f\"- **Reference:** {md_escape(r['reference_summary'])}\",\n",
        "        f\"- **Generated:** {md_escape(r['generated_summary'])}\",\n",
        "        \"\"\n",
        "    ]\n",
        "\n",
        "with open(\"examples_report.md\",\"w\",encoding=\"utf-8\") as f:\n",
        "    f.write(\"\\n\".join(lines))\n",
        "\n",
        "print(\"Saved: examples_report.md\")\n"
      ],
      "metadata": {
        "colab": {
          "base_uri": "https://localhost:8080/"
        },
        "id": "bec5L7y_DJzk",
        "outputId": "2399b99d-20fc-42d6-b7c5-88a733c93134"
      },
      "execution_count": 50,
      "outputs": [
        {
          "output_type": "stream",
          "name": "stdout",
          "text": [
            "Saved: examples_report.md\n"
          ]
        }
      ]
    },
    {
      "cell_type": "code",
      "source": [
        "with open(\"examples_report.md\", \"r\", encoding=\"utf-8\") as f:\n",
        "    report_content = f.read()\n",
        "print(report_content)"
      ],
      "metadata": {
        "colab": {
          "base_uri": "https://localhost:8080/"
        },
        "id": "aF1U5y4sDOQ_",
        "outputId": "b72e5d1b-ef18-43dc-f174-0268e73daadb"
      },
      "execution_count": 51,
      "outputs": [
        {
          "output_type": "stream",
          "name": "stdout",
          "text": [
            "# Summarization Examples Report\n",
            "\n",
            "## Top examples by ROUGE-L\n",
            "\n",
            "**ROUGE-L:** 0.378\n",
            "- **Reference:** Fish and chips has believed to be partly Portuguese and partly Belgian .\n",
            "The tea bag was accidentally invented by a New York tea merchant .\n",
            "Saint George himself is thought to have been born in Syria .\n",
            "- **Generated:** fish and chips has become a British institution, as well as a national money-spinner. but it is actually believed to be partly Portuguese and partly Belgian. fried fish already had a long history in London 200 years earlier.\n",
            "\n",
            "**ROUGE-L:** 0.354\n",
            "- **Reference:** Arsene Wenger will have chat with Theo Walcott ahead of Arsenal clash .\n",
            "Walcott was substituted after 55 minutes of England's draw with Italy .\n",
            "Arsenal boss is Wenger is concerned by the winger's confidence .\n",
            "The Gunners take on Liverpool at the Emirates Stadium on Saturday .\n",
            "- **Generated:** theo Walcott was hauled off after 55 minutes of England's 1-1 draw against Italy on Tuesday night. the winger has struggled for game time since returning from a long-term lay-off due to a serious knee injury. arsene wenger admits he is concerned about theo's confidence.\n",
            "\n",
            "**ROUGE-L:** 0.336\n",
            "- **Reference:** Duli Hembrom wrote to the principal at Milan Mithi Uchha Vidyalaya .\n",
            "Said parents refused to cancel the wedding and did not want to go ahead .\n",
            "Child Marriage Restraint Act specifies a girl must be 18 before she can wed .\n",
            "- **Generated:** a 13-year-old girl has written a letter to her teacher begging her to stop the wedding. she wrote: 'i do not want to get married, I took an oath at the time of admission that I will not get married before I turn 18' the child marriage Restraint Act, passed in india during British rule in 1929, stipulated that a girl must be 18 and a boy 21 before they can wed.\n",
            "\n",
            "**ROUGE-L:** 0.333\n",
            "- **Reference:** Floyd Mayweather will fight Manny Pacquiao in Las Vegas on May 2 .\n",
            "The bout is expected to generate $300 million in revenue .\n",
            "Iyanna Mayweather has been in training camp with her father Floyd .\n",
            "- **Generated:** Floyd Mayweather vs Pacquiao will generate revenue upwards of $300 million in what is being billed as the most lucrative bout in boxing history. the money man's daughter Iyanna Mayweather has shared her thoughts about life in training with her champion father. she said she is amazed by her dad's work ethic in the gym.\n",
            "\n",
            "**ROUGE-L:** 0.275\n",
            "- **Reference:** New video features an Australian doctor called Abu Yusuf al-Australi .\n",
            "The doctor calls on foreigners with training to join the ISIS health service .\n",
            "He is seen handling babies while dressed in western-style surgical scrubs .\n",
            "The video appears to be mimicking Britain's National Health Service .\n",
            "Nine British medical students recently travelled to Syria to join ISIS .\n",
            "- **Generated:** a man with an Australian accent calls himself 'Abu Yusuf' and calls on foreign doctors to travel to the ISIS stronghold to help launch the ISHS. the vision is the latest in a string of high budget propaganda videos from the depraved militant group.\n",
            "\n",
            "\n",
            "## Bottom examples by ROUGE-L\n",
            "\n",
            "**ROUGE-L:** 0.149\n",
            "- **Reference:** The presidential hopeful held a town hall meeting in Kenilworth on Tuesday .\n",
            "During the meeting, high school English teacher Kathy Mooney got up to ask the governor a question about pensions .\n",
            "She asked why he didn't seek a higher legal settlement in a case with ExxonMobil that would have contributed to the state's pension system .\n",
            "Christie responded by repeatedly asking how much Mooney knew about the deal instead of answering her question .\n",
            "- **Generated:** 'he's always taken a very nasty and disrespectful tone with teachers and other individuals who dare to question him at these events,' said the state's largest teacher's union. 'I know that you could have gotten more money, on the dollar,' a defensive Christie responded.\n",
            "\n",
            "**ROUGE-L:** 0.160\n",
            "- **Reference:** CNN's Dr. Sanjay Gupta says we should legalize medical marijuana now .\n",
            "He says he knows how easy it is do nothing \"because I did nothing for too long\"\n",
            "- **Generated:** new surgeon general says 53% of americans favor legalization, 77% support it for medical purposes. he sees a revolution in the faces of good parents, uprooting their lives to get medicine for their children. \"i am proud of you on the whole marijuana thing,\" he says.\n",
            "\n",
            "**ROUGE-L:** 0.179\n",
            "- **Reference:** Cassey Ho boasts over two million subscribers on her YouTube channel Blogilates .\n",
            "The 28-year-old receives hundreds of comments a day telling her that she needs to lose weight .\n",
            "- **Generated:** 'Perfect' Body' is a powerful and provocative new video. it highlights the cruel comments she has received from viewers of her videos. the 28-year-old says she has felt bad about herself after reading nasty comments.\n",
            "\n",
            "**ROUGE-L:** 0.194\n",
            "- **Reference:** Child has amassed thousands of Twitter followers with 'gang life' photos .\n",
            "In one video he points gun at camera as adults look on unfazed .\n",
            "His tweets have prompted backlash with calls for intervention .\n",
            "- **Generated:** the little boy, from Memphis, has amassed more than 3,000 followers on twitter. he regularly poses with guns, cash, and bags of what looks like marijuana. in many pictures he is smoking suspicious substances, with captions 'High Life'\n",
            "\n",
            "**ROUGE-L:** 0.247\n",
            "- **Reference:** Aaron Cook was overlooked by Team GB for the London Olympics .\n",
            "Taekwondo star has received citizenship from Moldova and plans to fight for them at the Rio 2016 Games .\n",
            "The British Olympic Association could yet block the move .\n",
            "- **Generated:** the taekwondo star has been granted citizenship by Moldova. the 24-year-old was overlooked for the Great Britain squad at London 2012. he has now received his passport from the small eastern european state.\n",
            "\n"
          ]
        }
      ]
    },
    {
      "cell_type": "markdown",
      "source": [
        "aggregate human evaluation if you have ratings"
      ],
      "metadata": {
        "id": "2tRD1cI7DdOY"
      }
    },
    {
      "cell_type": "code",
      "source": [
        "HUMAN_RESULTS = \"/content/human_eval_scaffold.csv\"\n",
        "if os.path.exists(HUMAN_RESULTS):\n",
        "    hr = pd.read_csv(HUMAN_RESULTS)\n",
        "    # Merge onto df by 'id' (we exported ids in the scaffold)\n",
        "    merged = pd.merge(df, hr, on=\"id\", how=\"inner\")\n",
        "    print(f\"Merged human ratings: {len(merged)} rows\")\n",
        "\n",
        "    # Averages\n",
        "    human_cols = [\"Fluency(1-5)\",\"Coherence(1-5)\",\"Faithfulness(1-5)\"]\n",
        "    human_avg = merged[human_cols].mean()\n",
        "    halluc_rate = merged[\"Hallucination(0/1)\"].mean()\n",
        "    print(\"\\nHuman ratings (means):\")\n",
        "    print(human_avg.round(2)) # Apply round to the Series\n",
        "    print(f\"Hallucination rate: {halluc_rate:.3f}%\") # Format output string\n",
        "\n",
        "    # Save a clean table\n",
        "    out_tbl = pd.DataFrame({\"Mean\": human_avg})\n",
        "    out_tbl.to_csv(\"human_ratings_summary.csv\")\n",
        "    print(\"Saved: human_ratings_summary.csv\")\n",
        "\n",
        "    # Correlation between ROUGE-L and human scores (just to illustrate “metrics vs meaning”)\n",
        "    corr = merged[[\"rougeL\",\"Fluency(1-5)\",\"Coherence(1-5)\",\"Faithfulness(1-5)\"]].corr()\n",
        "    print(\"\\nCorrelation (ROUGE-L vs human ratings):\")\n",
        "    print(corr.round(3))\n",
        "else:\n",
        "    print(f\"{HUMAN_RESULTS} not found — skipping human eval aggregation.\")"
      ],
      "metadata": {
        "colab": {
          "base_uri": "https://localhost:8080/"
        },
        "id": "ziITV_pnDdxy",
        "outputId": "c6a30f71-1e9a-4ff6-bb13-b9e145a100d9"
      },
      "execution_count": 52,
      "outputs": [
        {
          "output_type": "stream",
          "name": "stdout",
          "text": [
            "Merged human ratings: 10 rows\n",
            "\n",
            "Human ratings (means):\n",
            "Fluency(1-5)        NaN\n",
            "Coherence(1-5)      NaN\n",
            "Faithfulness(1-5)   NaN\n",
            "dtype: float64\n",
            "Hallucination rate: nan%\n",
            "Saved: human_ratings_summary.csv\n",
            "\n",
            "Correlation (ROUGE-L vs human ratings):\n",
            "                   rougeL  Fluency(1-5)  Coherence(1-5)  Faithfulness(1-5)\n",
            "rougeL                1.0           NaN             NaN                NaN\n",
            "Fluency(1-5)          NaN           NaN             NaN                NaN\n",
            "Coherence(1-5)        NaN           NaN             NaN                NaN\n",
            "Faithfulness(1-5)     NaN           NaN             NaN                NaN\n"
          ]
        }
      ]
    },
    {
      "cell_type": "markdown",
      "source": [
        "ready-made text snippets for Chapter 4"
      ],
      "metadata": {
        "id": "rlSaWRVJD1Zj"
      }
    },
    {
      "cell_type": "code",
      "source": [
        "# Generate short lines you can paste into the Results section\n",
        "mean_r1, mean_r2, mean_rL = df[\"rouge1\"].mean(), df[\"rouge2\"].mean(), df[\"rougeL\"].mean()\n",
        "line_metrics = (\n",
        "    f\"Average ROUGE scores on the test subset were \"\n",
        "    f\"ROUGE-1={mean_r1:.3f}, ROUGE-2={mean_r2:.3f}, and ROUGE-L={mean_rL:.3f}.\"\n",
        ")\n",
        "print(line_metrics)\n",
        "\n",
        "if \"gen_time_sec\" in df.columns:\n",
        "    t_mean = df[\"gen_time_sec\"].mean()\n",
        "    print(f\"Mean generation time per summary: {t_mean:.2f} seconds.\")\n"
      ],
      "metadata": {
        "colab": {
          "base_uri": "https://localhost:8080/"
        },
        "id": "wrfQwxpnD4fS",
        "outputId": "2287a9db-6661-4243-f8e6-e42d67be8014"
      },
      "execution_count": 53,
      "outputs": [
        {
          "output_type": "stream",
          "name": "stdout",
          "text": [
            "Average ROUGE scores on the test subset were ROUGE-1=0.378, ROUGE-2=0.130, and ROUGE-L=0.261.\n",
            "Mean generation time per summary: 0.98 seconds.\n"
          ]
        }
      ]
    },
    {
      "cell_type": "markdown",
      "source": [
        "so totally my pipeline is solid. but i want to level it up , here are the highest-impact extras i can add. so this is just extra work i wnat to do in this code for my future."
      ],
      "metadata": {
        "id": "9nPUamK1EWlL"
      }
    },
    {
      "cell_type": "markdown",
      "source": [
        "1. Progress bar + robust loop"
      ],
      "metadata": {
        "id": "eDhxOn-hE1UX"
      }
    },
    {
      "cell_type": "code",
      "source": [
        "from tqdm.auto import tqdm\n",
        "\n",
        "rows = []\n",
        "for i, ex in enumerate(tqdm(test_subset, desc=\"Summarising\")):\n",
        "    try:\n",
        "        article, reference = ex[\"article\"], ex[\"highlights\"]\n",
        "        t0 = time.time()\n",
        "        generated = generate_summary(article)\n",
        "        dt = time.time() - t0\n",
        "        scores = scorer.score(reference, generated)\n",
        "        rows.append({\n",
        "            \"id\": i,\n",
        "            \"article\": article,\n",
        "            \"reference_summary\": reference,\n",
        "            \"generated_summary\": generated,\n",
        "            \"rouge1\": scores[\"rouge1\"].fmeasure,\n",
        "            \"rouge2\": scores[\"rouge2\"].fmeasure,\n",
        "            \"rougeL\": scores[\"rougeL\"].fmeasure,\n",
        "            \"gen_time_sec\": dt,\n",
        "            \"device\": str(DEVICE)\n",
        "        })\n",
        "    except Exception as e:\n",
        "        print(f\"[WARN] sample {i} failed: {e}\")\n"
      ],
      "metadata": {
        "colab": {
          "base_uri": "https://localhost:8080/",
          "height": 49,
          "referenced_widgets": [
            "a989e7f51b574cfa8e1fb4615cd75df6",
            "726680d069064ffcb522a8c33123c986",
            "501d468a495447208ed8df0832376408",
            "598b09a55e484098ab61ff95ce743055",
            "5456832110e44f1f8611dfba585c530f",
            "92fde823d6924794a269222aa5d29908",
            "976b1ea468c84dff8ab1c006a773ec1c",
            "d5bd01cff34c4a9c8d1d34fee04a96b2",
            "b879e8d9464c4d31b48de455f4d688f2",
            "631ee568d0cc4d6488ef8d09d5f1e6ce",
            "b347d69ea99348809a902a847665b230"
          ]
        },
        "id": "fM9nsJa_EyM6",
        "outputId": "0c55aaa3-2345-45bb-8e47-81b67af6692b"
      },
      "execution_count": 54,
      "outputs": [
        {
          "output_type": "display_data",
          "data": {
            "text/plain": [
              "Summarising:   0%|          | 0/10 [00:00<?, ?it/s]"
            ],
            "application/vnd.jupyter.widget-view+json": {
              "version_major": 2,
              "version_minor": 0,
              "model_id": "a989e7f51b574cfa8e1fb4615cd75df6"
            }
          },
          "metadata": {}
        }
      ]
    },
    {
      "cell_type": "markdown",
      "source": [
        "2) Decoding tweaks to reduce repetition\n",
        "\n",
        "Small changes; often improve readability."
      ],
      "metadata": {
        "id": "Rwq9bpugE94s"
      }
    },
    {
      "cell_type": "code",
      "source": [
        "def generate_summary(article_text: str) -> str:\n",
        "    input_text = \"summarize: \" + article_text\n",
        "    inputs = tokenizer(\n",
        "        input_text,\n",
        "        return_tensors=\"pt\",\n",
        "        max_length=MAX_INPUT_TOKENS,\n",
        "        truncation=True\n",
        "    )\n",
        "    inputs = {k: v.to(DEVICE) for k, v in inputs.items()}\n",
        "    with torch.no_grad():\n",
        "        ids = model.generate(\n",
        "            **inputs,\n",
        "            num_beams=NUM_BEAMS,\n",
        "            length_penalty=LENGTH_PENALTY,\n",
        "            max_length=MAX_OUTPUT_TOKENS,\n",
        "            min_length=MIN_OUTPUT_TOKENS,\n",
        "            early_stopping=True,\n",
        "            no_repeat_ngram_size=3,     # prevents 3-gram repeats\n",
        "            repetition_penalty=1.1      # gently discourages loops\n",
        "        )\n",
        "    return tokenizer.decode(ids[0], skip_special_tokens=True)"
      ],
      "metadata": {
        "id": "JLL6bvTzE-iT"
      },
      "execution_count": 76,
      "outputs": []
    },
    {
      "cell_type": "markdown",
      "source": [
        "3: try a sampling decoder for comparison\n",
        "\n",
        "Useful for discussion (fluency vs faithfulness trade-off)."
      ],
      "metadata": {
        "id": "rSBR6dtvGPkJ"
      }
    },
    {
      "cell_type": "code",
      "metadata": {
        "id": "657fa13e"
      },
      "source": [
        "def generate_summary_sampling(article_text: str) -> str:\n",
        "    input_text = \"summarize: \" + article_text\n",
        "    inputs = tokenizer(\n",
        "        input_text,\n",
        "        return_tensors=\"pt\",\n",
        "        max_length=MAX_INPUT_TOKENS,\n",
        "        truncation=True\n",
        "    )\n",
        "    inputs = {k: v.to(DEVICE) for k, v in inputs.items()}\n",
        "    with torch.no_grad():\n",
        "        ids = model.generate(\n",
        "            **inputs,\n",
        "            do_sample=True,\n",
        "            top_k=50,\n",
        "            top_p=0.9,\n",
        "            temperature=0.9,\n",
        "            max_length=MAX_OUTPUT_TOKENS,\n",
        "            min_length=MIN_OUTPUT_TOKENS\n",
        "        )\n",
        "    return tokenizer.decode(ids[0], skip_special_tokens=True)"
      ],
      "execution_count": 77,
      "outputs": []
    },
    {
      "cell_type": "markdown",
      "source": [
        "4) Bootstrap CIs for ROUGE (great in Results tables)\n",
        "\n",
        "Shows uncertainty; looks professional."
      ],
      "metadata": {
        "id": "XFyTpBzvGmPf"
      }
    },
    {
      "cell_type": "code",
      "source": [
        "def bootstrap_mean_ci(values, iters=2000, alpha=0.05, rng=np.random.default_rng(SEED)):\n",
        "    vals = np.array(values)\n",
        "    boots = [rng.choice(vals, size=len(vals), replace=True).mean() for _ in range(iters)]\n",
        "    lo, hi = np.quantile(boots, [alpha/2, 1-alpha/2])\n",
        "    return vals.mean(), lo, hi\n",
        "\n",
        "for m in [\"rouge1\",\"rouge2\",\"rougeL\"]:\n",
        "    mean, lo, hi = bootstrap_mean_ci(df[m].values)\n",
        "    print(f\"{m.upper()}: mean={mean:.3f}, 95% CI=({lo:.3f}, {hi:.3f})\")\n"
      ],
      "metadata": {
        "colab": {
          "base_uri": "https://localhost:8080/"
        },
        "id": "mzIMcTIIGm4L",
        "outputId": "6c9d9d2e-a745-4062-c421-28dff70ce7f9"
      },
      "execution_count": 78,
      "outputs": [
        {
          "output_type": "stream",
          "name": "stdout",
          "text": [
            "ROUGE1: mean=0.378, 95% CI=(0.332, 0.422)\n",
            "ROUGE2: mean=0.130, 95% CI=(0.082, 0.183)\n",
            "ROUGEL: mean=0.261, 95% CI=(0.211, 0.310)\n"
          ]
        }
      ]
    },
    {
      "cell_type": "markdown",
      "source": [
        "5. Determinism & run metadata\n",
        "\n",
        "Maybe it helps reproducibility in my dissertation appendix."
      ],
      "metadata": {
        "id": "8lr2jjxbGryX"
      }
    },
    {
      "cell_type": "code",
      "source": [
        "import platform, transformers\n",
        "meta = {\n",
        "  \"device\": str(DEVICE),\n",
        "  \"python\": platform.python_version(),\n",
        "  \"torch\": torch.__version__,\n",
        "  \"transformers\": transformers.__version__,\n",
        "  \"subset_size\": len(test_subset),\n",
        "  \"model\": MODEL_NAME,\n",
        "  \"params\": {\n",
        "    \"max_input\": MAX_INPUT_TOKENS,\n",
        "    \"max_output\": MAX_OUTPUT_TOKENS,\n",
        "    \"min_output\": MIN_OUTPUT_TOKENS,\n",
        "    \"num_beams\": NUM_BEAMS,\n",
        "    \"length_penalty\": LENGTH_PENALTY\n",
        "  }\n",
        "}\n",
        "pd.Series(meta).to_json(\"run_metadata.json\", indent=2)\n",
        "print(\"Saved: run_metadata.json\")\n"
      ],
      "metadata": {
        "colab": {
          "base_uri": "https://localhost:8080/"
        },
        "id": "YNwIEc7nGyQe",
        "outputId": "20f6c73f-ca04-4542-981a-76a07d9cf1a6"
      },
      "execution_count": 61,
      "outputs": [
        {
          "output_type": "stream",
          "name": "stdout",
          "text": [
            "Saved: run_metadata.json\n"
          ]
        }
      ]
    },
    {
      "cell_type": "code",
      "source": [
        "import json\n",
        "\n",
        "with open(\"run_metadata.json\", \"r\", encoding=\"utf-8\") as f:\n",
        "    metadata = json.load(f)\n",
        "print(json.dumps(metadata, indent=2))"
      ],
      "metadata": {
        "colab": {
          "base_uri": "https://localhost:8080/"
        },
        "id": "7mKI9W1rG1Hm",
        "outputId": "205acafc-55b2-4807-ab11-017b11afd6ca"
      },
      "execution_count": 62,
      "outputs": [
        {
          "output_type": "stream",
          "name": "stdout",
          "text": [
            "{\n",
            "  \"device\": \"cuda\",\n",
            "  \"python\": \"3.12.11\",\n",
            "  \"torch\": \"2.8.0+cu126\",\n",
            "  \"transformers\": \"4.56.0\",\n",
            "  \"subset_size\": 10,\n",
            "  \"model\": \"t5-small\",\n",
            "  \"params\": {\n",
            "    \"max_input\": 512,\n",
            "    \"max_output\": 150,\n",
            "    \"min_output\": 40,\n",
            "    \"num_beams\": 4,\n",
            "    \"length_penalty\": 2.0\n",
            "  }\n",
            "}\n"
          ]
        }
      ]
    },
    {
      "cell_type": "markdown",
      "source": [
        "6) Simple batching (speed-up on GPU)"
      ],
      "metadata": {
        "id": "Ccyh5Z4lHE6P"
      }
    },
    {
      "cell_type": "code",
      "source": [
        "BATCH_SIZE = 4\n",
        "\n",
        "def batched_generate(articles):\n",
        "    batch = [\"summarize: \" + a for a in articles]\n",
        "    enc = tokenizer(batch, return_tensors=\"pt\", truncation=True, max_length=MAX_INPUT_TOKENS, padding=True)\n",
        "    enc = {k: v.to(DEVICE) for k, v in enc.items()}\n",
        "    with torch.no_grad():\n",
        "        ids = model.generate(\n",
        "            **enc, num_beams=NUM_BEAMS, length_penalty=LENGTH_PENALTY,\n",
        "            max_length=MAX_OUTPUT_TOKENS, min_length=MIN_OUTPUT_TOKENS,\n",
        "            early_stopping=True, no_repeat_ngram_size=3, repetition_penalty=1.1\n",
        "        )\n",
        "    return tokenizer.batch_decode(ids, skip_special_tokens=True)\n",
        "\n",
        "# usage\n",
        "rows = []\n",
        "for start in tqdm(range(0, len(test_subset), BATCH_SIZE), desc=\"Batched summarising\"):\n",
        "    # Use select to get the batch as a list of dictionaries\n",
        "    batch = test_subset.select(range(start, min(start + BATCH_SIZE, len(test_subset))))\n",
        "    arts  = [ex[\"article\"] for ex in batch]\n",
        "    refs  = [ex[\"highlights\"] for ex in batch]\n",
        "    t0 = time.time()\n",
        "    gens = batched_generate(arts)\n",
        "    dt  = (time.time() - t0) / max(1, len(batch))\n",
        "    for i, (a, r, g) in enumerate(zip(arts, refs, gens), start=start):\n",
        "        scores = scorer.score(r, g)\n",
        "        rows.append({\n",
        "            \"id\": i, \"article\": a, \"reference_summary\": r, \"generated_summary\": g,\n",
        "            \"rouge1\": scores[\"rouge1\"].fmeasure, \"rouge2\": scores[\"rouge2\"].fmeasure,\n",
        "            \"rougeL\": scores[\"rougeL\"].fmeasure, \"gen_time_sec\": dt, \"device\": str(DEVICE)\n",
        "        })\n",
        "df = pd.DataFrame(rows)"
      ],
      "metadata": {
        "colab": {
          "base_uri": "https://localhost:8080/",
          "height": 49,
          "referenced_widgets": [
            "0639a3909c614d058c75519286f6ba75",
            "ba8a4eaee2e94c1981f80af996480427",
            "2b42bf0ca00b47299a4ff18f4ca9eb4f",
            "f2f9ef4291d745babdea0f856268378f",
            "af3c955b6086403ab5c0aeb086e04317",
            "ba932f66a5a2427994c5645ae205cb18",
            "b676e38a65554b8fae3f61219a64334f",
            "3c5c826048b246178e59f92905b8a5d1",
            "b21e8d62467a4d13be0e1810d5dc5d98",
            "7d44dc11ebf540219d77a375e5f788e9",
            "bd9a2e2d80a14b5d9c95970495b2b31a"
          ]
        },
        "id": "4SCWsDyeHFt0",
        "outputId": "f5aae4d9-7cb3-48f4-a7a9-71756c8cba2b"
      },
      "execution_count": 67,
      "outputs": [
        {
          "output_type": "display_data",
          "data": {
            "text/plain": [
              "Batched summarising:   0%|          | 0/3 [00:00<?, ?it/s]"
            ],
            "application/vnd.jupyter.widget-view+json": {
              "version_major": 2,
              "version_minor": 0,
              "model_id": "0639a3909c614d058c75519286f6ba75"
            }
          },
          "metadata": {}
        }
      ]
    },
    {
      "cell_type": "markdown",
      "source": [
        "7.Flag obvious hallucinations automatically (lightweight)"
      ],
      "metadata": {
        "id": "Wochay1bHZGO"
      }
    },
    {
      "cell_type": "code",
      "source": [
        "# crude check: does generated contain named entities not in article? (approx via capitalised tokens)\n",
        "def cap_tokens(s):\n",
        "    return {t.strip(\",.?!:;\") for t in s.split() if t[:1].isupper() and len(t) > 2}\n",
        "\n",
        "def hallucination_flag(article, summary):\n",
        "    extra = cap_tokens(summary) - cap_tokens(article)\n",
        "    # ignore very common caps\n",
        "    stop_caps = {\"The\",\"A\",\"An\",\"He\",\"She\",\"They\",\"It\",\"I\",\"In\",\"On\",\"At\",\"And\",\"But\",\"For\",\"To\"}\n",
        "    extra = {e for e in extra if e not in stop_caps}\n",
        "    return int(len(extra) > 0)\n",
        "\n",
        "df[\"halluc_flag_crude\"] = [\n",
        "    hallucination_flag(a, g) for a, g in zip(df[\"article\"], df[\"generated_summary\"])\n",
        "]\n"
      ],
      "metadata": {
        "id": "Ua0ySJ3vHcEE"
      },
      "execution_count": 68,
      "outputs": []
    },
    {
      "cell_type": "markdown",
      "source": [
        "Save a compact “results pack” for submission"
      ],
      "metadata": {
        "id": "gBsnYlyqHhaA"
      }
    },
    {
      "cell_type": "code",
      "source": [
        "os.makedirs(\"results_pack\", exist_ok=True)\n",
        "for f in [\"summarization_results_output.csv\",\n",
        "          \"fig_avg_rouge.png\", \"fig_rouge_boxplots.png\", \"fig_len_vs_rougeL.png\",\n",
        "          \"run_metadata.json\", \"human_eval_scaffold.csv\", \"examples_report.md\"]:\n",
        "    if os.path.exists(f):\n",
        "        import shutil; shutil.copy(f, os.path.join(\"results_pack\", f))\n",
        "print(\"Packed files in ./results_pack\")\n"
      ],
      "metadata": {
        "colab": {
          "base_uri": "https://localhost:8080/"
        },
        "id": "NqoFfHWMHjn6",
        "outputId": "20d77ed1-66b1-49d7-bbd9-c56498f7cc05"
      },
      "execution_count": 69,
      "outputs": [
        {
          "output_type": "stream",
          "name": "stdout",
          "text": [
            "Packed files in ./results_pack\n"
          ]
        }
      ]
    },
    {
      "cell_type": "markdown",
      "source": [],
      "metadata": {
        "id": "yslj4VUCHhWm"
      }
    },
    {
      "cell_type": "markdown",
      "source": [
        "9. CLI arguments (nice-to-have)\n",
        "\n",
        "Let run different sizes/params without editing code."
      ],
      "metadata": {
        "id": "ntsHUXh9HrKp"
      }
    },
    {
      "cell_type": "code",
      "source": [
        "# Instead of using argparse, define parameters directly as variables\n",
        "# This allows you to easily change them within the notebook\n",
        "\n",
        "# import argparse\n",
        "# parser = argparse.ArgumentParser()\n",
        "# parser.add_argument(\"--subset_size\", type=int, default=10)\n",
        "# parser.add_argument(\"--beams\", type=int, default=4)\n",
        "# args = parser.parse_args()\n",
        "\n",
        "# SUBSET_SIZE = args.subset_size\n",
        "# NUM_BEAMS   = args.beams\n",
        "\n",
        "# Define parameters here\n",
        "SUBSET_SIZE = 10\n",
        "NUM_BEAMS   = 4\n",
        "\n",
        "print(f\"Using SUBSET_SIZE: {SUBSET_SIZE}\")\n",
        "print(f\"Using NUM_BEAMS: {NUM_BEAMS}\")"
      ],
      "metadata": {
        "colab": {
          "base_uri": "https://localhost:8080/"
        },
        "id": "O9XELqaYHukY",
        "outputId": "6bf20932-d34e-418e-ec73-d7c8dd6a2796"
      },
      "execution_count": 71,
      "outputs": [
        {
          "output_type": "stream",
          "name": "stdout",
          "text": [
            "Using SUBSET_SIZE: 10\n",
            "Using NUM_BEAMS: 4\n"
          ]
        }
      ]
    },
    {
      "cell_type": "code",
      "source": [
        "def chunk_tokens(text, max_tokens=450):\n",
        "    words = text.split()\n",
        "    return [\" \".join(words[i:i+max_tokens]) for i in range(0, len(words), max_tokens)]\n",
        "\n",
        "def summarize_long(article):\n",
        "    chunks = chunk_tokens(article, max_tokens=350)  # leave room for prompt tokens\n",
        "    partials = [generate_summary(c) for c in chunks[:3]]  # cap chunks for speed\n",
        "    stitched = \" \".join(partials)\n",
        "    return generate_summary(stitched)  # second pass to compress\n",
        "\n",
        "# use summarize_long(article) instead of generate_summary(article) when len(article.split()) is huge\n"
      ],
      "metadata": {
        "id": "h0W5acJVIFVH"
      },
      "execution_count": 73,
      "outputs": []
    },
    {
      "cell_type": "code",
      "source": [
        "# Example usage of the summarize_long function\n",
        "# Using the first article from the test_subset\n",
        "if len(test_subset) > 0:\n",
        "    example_article = test_subset[0][\"article\"]\n",
        "    print(\"Original Article:\")\n",
        "    print(example_article)\n",
        "    print(\"\\nGenerated Summary (using summarize_long):\")\n",
        "    long_summary = summarize_long(example_article)\n",
        "    print(long_summary)\n",
        "else:\n",
        "    print(\"test_subset is empty, cannot demonstrate summarize_long.\")"
      ],
      "metadata": {
        "colab": {
          "base_uri": "https://localhost:8080/"
        },
        "id": "o4k5ivP7III9",
        "outputId": "92047f82-3007-4f9e-dc8f-b05445f7bf8f"
      },
      "execution_count": 74,
      "outputs": [
        {
          "output_type": "stream",
          "name": "stdout",
          "text": [
            "Original Article:\n",
            "(CNN) I see signs of a revolution everywhere. I see it in the op-ed pages of the newspapers, and on the state ballots in nearly half the country. I see it in politicians who once preferred to play it safe with this explosive issue but are now willing to stake their political futures on it. I see the revolution in the eyes of sterling scientists, previously reluctant to dip a toe into this heavily stigmatized world, who are diving in head first. I see it in the new surgeon general who cites data showing just how helpful it can be. I see a revolution in the attitudes of everyday Americans. For the first time a majority, 53%, favor its legalization, with 77% supporting it for medical purposes. Support for legalization has risen 11 points in the past few years alone. In 1969, the first time Pew asked the question about legalization, only 12% of the nation was in favor. I see a revolution that is burning white hot among young people, but also shows up among the parents and grandparents in my kids' school. A police officer I met in Michigan is part of the revolution, as are the editors of the medical journal, Neurosurgery. I see it in the faces of good parents, uprooting their lives to get medicine for their children -- and in the children themselves, such as Charlotte, who went from having 300 seizures a week to just one or two a month. We know it won't consistently have such dramatic results (or any impact at all) in others, but what medicine does? I see this medical marijuana revolution in surprising places. Girl's seizures spur medical marijuana legislation in Georgia . Among my colleagues, my patients and my friends. I have even seen the revolution in my own family. A few years ago, when I told my mother I was investigating the topic for a documentary, I was met with a long pause. \"Marijuana...?\" She whispered in a half questioning, half disapproving tone. She could barely even say the word and her response filled me with self-doubt. Even as a grown man, mom can still make my cheeks turn red and shatter my confidence with a single word. But just last week she suddenly stopped mid-conversation and said, \"I am proud of you on the whole marijuana thing.\" I waited for the other shoe to drop, but it didn't. Instead, she added, \"You probably helped a lot of people who were suffering.\" I don't think we had ever had a conversation like that one. At that moment, I saw a revolution that can bring you to tears. The word revolution, comes from the Latin revolutio, to \"turn around.\" I had my own turn around a couple of years ago, and at the time it was a lonely place to hold a supportive position on medical marijuana. Hardly any government officials would agree to sit down and be interviewed on the topic. Even patients I spoke to were reluctant to share their stories. It can be tricky, I learned, to be on the right side of science but on the wrong side of ideology. When we put the first \"Weed\" documentary on television in August 2013, I didn't know if anyone would watch our yearlong investigation. Even worse, I didn't even know if they would care. Is weed legal in your state? Just two years later, in \"Weed 3,\" we are eyewitnesses to a revolution in full swing. You will ride along with us for the dawn of the first federally approved clinical study on the use of marijuana for PTSD. You will meet patients such as Sean Kiernan, an accomplished investment banker, and Amelia Taylor, a stay-at-home mom. They are the remarkable and surprising faces of this revolution -- smart, successful and suffering -- unwilling to accept the fact that commonly prescribed medications often used to treat PTSD can be worse than the underlying disorder itself. Sean Kiernan nearly died, trying to get better. You will see what weed really does to your brain, in crystal clear images. This time around, you will hear from the heads of government agencies earnestly sharing their point of view, both Democratic and Republican senators, and even the President of the United States. This is what a revolution looks like. Your medical marijuana questions answered . When \"Weed 2: Cannabis Madness\" aired in March 2014, Boston researcher Rick Doblin believed the right people were watching. Just four days later, Doblin received a letter in the mail he had been waiting on for seven years that finally provided federal approval for his marijuana study. The federal farm where Doblin would have to obtain his marijuana is on the campus of Ole Miss in Oxford, Mississippi. In anticipation of a scientific revolution, the production of research-grade marijuana there has increased 30-fold in just the past year. Make no mistake, we have plenty of evidence that the approval and support of the federal government can fast track a revolution at a faster pace than we have yet seen. It was the National Institute of Allergy and Infectious Diseases that spearheaded the research into a cure for AIDS, as well as stopping the spread of West Nile Virus. They were also responsible for the awesome task of eradicating polio and smallpox. Other successful federally backed programs include the human genome project, the BRAIN initiative and the Precision Medicine Initiative. There are no shortage of examples where the federal government has been a guardian of our public health needs, and you could argue that medical marijuana would also qualify as a worthwhile investment. 10 diseases where medical marijuana could have impact . There is now promising research into the use of marijuana that could impact tens of thousands of children and adults, including treatment for cancer, epilepsy and Alzheimer's, to name a few. With regard to pain alone, marijuana could greatly reduce the demand for narcotics and simultaneously decrease the number of accidental painkiller overdoses, which are the greatest cause of preventable death in this country. As I sat across from Sens. Kirsten Gillibrand (D-New York) and Cory Booker (D-New Jersey), I knew something extraordinary was happening. They were reciting the story of Charlotte Figi and countless other children. They were quoting back the data we had shared from our earlier investigations. They were extolling the potential virtues of the plant, and all of that was before the interview even started. There was an impatience about them, and they seemed in a hurry to make a large dent in marijuana reform. They want marijuana to be rescheduled. They want it now. They want doctors to be able to prescribe it at VA hospitals all over the country. They want it now. They want research dollars freed up to study the plant. They want it now. They want their fellow lawmakers at the state and national level to acknowledge what most of the world, including the citizens of the United States, have known for a long time: Marijuana is a medicine, that should be studied and treated like any other medicine. And they want all of it now. I spent much of our interview challenging them. I needed to remind them that people, long before me or them, have been trying to do many of these same things for 40 years, and had been rejected every time. I reminded them that politicians have a hard time winning elections on the issue of marijuana but less difficulty losing them. I challenged them every step of the way. \"This time will be different,\" Booker confidently told me as he walked out of the room. Is marijuana as safe as -- or safer than -- alcohol? I know how easy it is do nothing because I did nothing for too long. Take a good look at the data, educate yourself and talk to the patients, who are often out of options and find their hope in the form of a simple plant. Journalists shouldn't take a position. It makes sense. Objectivity is king. But, at some point, open questions do get answered. At some point, contentious issues do get resolved. At some point, common sense prevails. So, here it is: We should legalize medical marijuana. We should do it nationally. And, we should do it now. 9 things to know about legal pot .\n",
            "\n",
            "Generated Summary (using summarize_long):\n",
            "a majority of americans favor legalization, with 77% supporting it for medical purposes. weed 3 is the first federally approved clinical study on the use of marijuana for PTSD. research-grade marijuana production has increased 30-fold in just the past year.\n"
          ]
        }
      ]
    }
  ]
}